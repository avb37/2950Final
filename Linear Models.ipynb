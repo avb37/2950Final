{
 "cells": [
  {
   "cell_type": "code",
   "execution_count": 1,
   "metadata": {},
   "outputs": [],
   "source": [
    "import pandas as pd\n",
    "import numpy as np\n",
    "from matplotlib import pyplot as plt\n",
    "import re\n",
    "import seaborn as sns"
   ]
  },
  {
   "cell_type": "code",
   "execution_count": 2,
   "metadata": {},
   "outputs": [],
   "source": [
    "merged_clean = pd.read_csv(\"merged_clean.csv\")"
   ]
  },
  {
   "cell_type": "code",
   "execution_count": 4,
   "metadata": {},
   "outputs": [],
   "source": [
    "h_a = pd.DataFrame(\n",
    "{\"Parameter\" : merged_clean[\"Parameter\"].copy(),\n",
    " \"Hungarian\" : merged_clean[\"Hungarian\"].copy(),\n",
    " \"H Word Length\" : 0,\n",
    " \"H Vowel Count\" : 0,\n",
    " \"H Consonant Count\" : 0,\n",
    " \"Albanian\" : merged_clean[\"Albanian\"].copy(),\n",
    " \"A Word Length\" : 0,\n",
    " \"A Vowel Count\" : 0,\n",
    " \"A Consonant Count\" : 0,\n",
    "}) \n",
    "\n",
    "h_a = h_a.drop_duplicates()\n",
    "\n",
    "h_b = pd.DataFrame(\n",
    "{\"Parameter\" : merged_clean[\"Parameter\"].copy(),\n",
    " \"Hungarian\" : merged_clean[\"Hungarian\"].copy(),\n",
    " \"H Word Length\" : 0,\n",
    " \"H Vowel Count\" : 0,\n",
    " \"H Consonant Count\" : 0,\n",
    " \"Bulgarian\" : merged_clean[\"Bulgarian\"].copy(),\n",
    " \"B Word Length\" : 0,\n",
    " \"B Vowel Count\" : 0,\n",
    " \"B Consonant Count\" : 0,\n",
    "}) \n",
    "\n",
    "\n",
    "h_b = h_b.drop_duplicates()\n",
    "\n",
    "h_r = pd.DataFrame(\n",
    "{\"Parameter\" : merged_clean[\"Parameter\"].copy(),\n",
    " \"Hungarian\" : merged_clean[\"Hungarian\"].copy(),\n",
    " \"H Word Length\" : 0,\n",
    " \"H Vowel Count\" : 0,\n",
    " \"H Consonant Count\" : 0,\n",
    " \"Romanian\" : merged_clean[\"Romanian\"].copy(),\n",
    " \"R Word Length\" : 0,\n",
    " \"R Vowel Count\" : 0,\n",
    " \"R Consonant Count\" : 0,\n",
    "}) \n",
    "\n",
    "h_r = h_r.drop_duplicates()\n",
    "\n",
    "temp = 0\n",
    "array_h = []\n",
    "for i in h_a[\"Hungarian\"]:\n",
    "    temp = len(i)\n",
    "    array_h.append(temp)\n",
    "    \n",
    "h_a['H Word Length'] = array_h\n",
    "temp2 = 0\n",
    "array_a = []\n",
    "for i in h_a[\"Albanian\"]:\n",
    "    temp2 = len(i)\n",
    "    array_a.append(temp2)\n",
    "h_a['A Word Length'] = array_a\n",
    "\n",
    "temp3 = 0\n",
    "array_hb = []\n",
    "for i in h_b[\"Hungarian\"]:\n",
    "    temp3 = len(i)\n",
    "    array_hb.append(temp3)\n",
    "\n",
    "h_b['H Word Length'] = array_hb\n",
    "\n",
    "temp4 = 0\n",
    "array_b = []\n",
    "for i in h_b[\"Bulgarian\"]:\n",
    "    temp4 = len(i)\n",
    "    array_b.append(temp4)\n",
    "    \n",
    "h_b['B Word Length'] = array_b\n",
    "\n",
    "temp5 = 0\n",
    "array_hr = []\n",
    "for i in h_r[\"Hungarian\"]:\n",
    "    temp5 = len(i)\n",
    "    array_hr.append(temp5)\n",
    "    \n",
    "h_r['H Word Length'] = array_hr\n",
    "\n",
    "temp6 = 0\n",
    "array_r = []\n",
    "for i in h_r[\"Romanian\"]:\n",
    "    temp6 = len(i)\n",
    "    array_r.append(temp6)\n",
    "    \n",
    "h_r['R Word Length'] = array_r\n",
    "\n",
    "def count_vowel(str):\n",
    "    \"\"\" takes string\"\"\"\n",
    "    count = 0 \n",
    "    vowel = set(\"aeiouyAEIOUY\")\n",
    "    for i in str:\n",
    "        if i in vowel:\n",
    "            count += 1\n",
    "    return count\n",
    "            \n",
    "def col_it(df, col1, col2, function):\n",
    "    \"\"\" takes dataframe, column to iterate over, column to append, and chosen functio \"\"\"\n",
    "    temp = 0\n",
    "    array = []\n",
    "    for i in df[col1]:\n",
    "        temp = function(i)\n",
    "        array.append(temp)\n",
    "    df[col2] = array        "
   ]
  },
  {
   "cell_type": "code",
   "execution_count": 5,
   "metadata": {},
   "outputs": [],
   "source": [
    "col_it(h_a, \"Hungarian\", \"H Vowel Count\", count_vowel)\n",
    "col_it(h_a, \"Albanian\", \"A Vowel Count\", count_vowel)\n",
    "col_it(h_b, \"Hungarian\", \"H Vowel Count\", count_vowel)\n",
    "col_it(h_b, \"Bulgarian\", \"B Vowel Count\", count_vowel)\n",
    "col_it(h_r, \"Hungarian\", \"H Vowel Count\", count_vowel)\n",
    "col_it(h_r, \"Romanian\", \"R Vowel Count\", count_vowel)\n",
    "\n",
    "def count_cons(str):\n",
    "    \"\"\" takes string\"\"\"\n",
    "    count = 0 \n",
    "    vowel = set(\"bcdfghjklmnpqrstvwxzBCDFGHJKLMNPQRSTVWXZ\")\n",
    "    for i in str:\n",
    "        if i in vowel:\n",
    "            count += 1\n",
    "    return count"
   ]
  },
  {
   "cell_type": "code",
   "execution_count": 6,
   "metadata": {},
   "outputs": [],
   "source": [
    "col_it(h_a, \"Hungarian\", \"H Consonant Count\", count_cons)\n",
    "col_it(h_a, \"Albanian\", \"A Consonant Count\", count_cons)\n",
    "col_it(h_b, \"Hungarian\", \"H Consonant Count\", count_cons)\n",
    "col_it(h_b, \"Bulgarian\", \"B Consonant Count\", count_cons)\n",
    "col_it(h_r, \"Hungarian\", \"H Consonant Count\", count_cons)\n",
    "col_it(h_r, \"Romanian\", \"R Consonant Count\", count_cons)"
   ]
  },
  {
   "cell_type": "code",
   "execution_count": 7,
   "metadata": {},
   "outputs": [],
   "source": [
    "from sklearn.linear_model import LinearRegression\n",
    "import seaborn as sns\n",
    "from sklearn.cluster import KMeans"
   ]
  },
  {
   "cell_type": "code",
   "execution_count": 8,
   "metadata": {},
   "outputs": [],
   "source": [
    "h_a.to_csv(r'/Users/adelinabranescu/Documents/Cornell/Fall_20/Data_2950/Final_Project/h_a.csv', index = True )\n",
    "h_b.to_csv(r'/Users/adelinabranescu/Documents/Cornell/Fall_20/Data_2950/Final_Project/h_b.csv', index = True )\n",
    "h_r.to_csv(r'/Users/adelinabranescu/Documents/Cornell/Fall_20/Data_2950/Final_Project/h_r.csv', index = True )\n"
   ]
  },
  {
   "cell_type": "code",
   "execution_count": 9,
   "metadata": {},
   "outputs": [],
   "source": [
    "h_temp = pd.DataFrame({\n",
    "\"Word\" : merged_clean['Hungarian'],\n",
    "\"Language\" : \"Hungarian\"})\n",
    "\n",
    "h_temp = h_temp.drop_duplicates()\n",
    "\n",
    "a_temp = pd.DataFrame({\n",
    "\"Word\" : merged_clean['Albanian'],\n",
    "\"Language\" : \"Albanian\"})\n",
    "\n",
    "b_temp = pd.DataFrame({\n",
    "\"Word\" : merged_clean['Bulgarian'],\n",
    "\"Language\" : \"Bulgarian\"})\n",
    "\n",
    "r_temp = pd.DataFrame({\n",
    "\"Word\" : merged_clean['Romanian'],\n",
    "\"Language\" : \"Romanian\"})"
   ]
  },
  {
   "cell_type": "code",
   "execution_count": 10,
   "metadata": {},
   "outputs": [],
   "source": [
    "a_temp = a_temp.drop_duplicates()\n",
    "b_temp = b_temp.drop_duplicates()\n",
    "r_temp = r_temp.drop_duplicates()"
   ]
  },
  {
   "cell_type": "code",
   "execution_count": 11,
   "metadata": {},
   "outputs": [],
   "source": [
    "result = h_temp.append(a_temp, sort=False)\n",
    "result = result.append(b_temp, sort=False)\n",
    "result = result.append(r_temp, sort=False)"
   ]
  },
  {
   "cell_type": "code",
   "execution_count": 12,
   "metadata": {},
   "outputs": [],
   "source": [
    "result['Word Len'] = 0\n",
    "result['Vowel Ct'] = 0\n",
    "result['Cons Ct'] = 0"
   ]
  },
  {
   "cell_type": "code",
   "execution_count": 13,
   "metadata": {},
   "outputs": [],
   "source": [
    "col_it(result, \"Word\", \"Vowel Ct\", count_vowel)\n",
    "col_it(result, \"Word\", \"Cons Ct\", count_cons)\n",
    "col_it(result, \"Word\", \"Word Len\", len)"
   ]
  },
  {
   "cell_type": "code",
   "execution_count": 14,
   "metadata": {},
   "outputs": [],
   "source": [
    "result['Vowel Percent'] = result['Vowel Ct']/result['Word Len']\n",
    "result['Cons Percent'] = result['Cons Ct']/result['Word Len']\n",
    "result['Cons/Vowel'] = result['Cons Ct']/result['Vowel Ct']"
   ]
  },
  {
   "cell_type": "code",
   "execution_count": 15,
   "metadata": {},
   "outputs": [],
   "source": [
    "result.to_csv(r'/Users/adelinabranescu/Documents/Cornell/Fall_20/Data_2950/Final_Project/result.csv', index = True )\n"
   ]
  },
  {
   "cell_type": "code",
   "execution_count": 16,
   "metadata": {},
   "outputs": [],
   "source": [
    "hvr = result[(result.Language == \"Romanian\") | (result.Language == \"Hungarian\")]\n",
    "hvb = result[(result.Language == \"Bulgarian\") | (result.Language == \"Hungarian\")]"
   ]
  },
  {
   "cell_type": "markdown",
   "metadata": {},
   "source": [
    "[Common Character Counter Source ](https://stackoverflow.com/questions/44269409/count-common-characters-in-strings-python#:~:text=If%20you%20want%20to%20maintain,Counter%20instead%20of%20set%20.&text=Analysis%2C%202%20is%20the%20correct,of%20either%20sets%20unique%20values.&text=therefore%20the%20minimum%20count%20is%204.)\n"
   ]
  },
  {
   "cell_type": "code",
   "execution_count": 30,
   "metadata": {},
   "outputs": [],
   "source": [
    "from collections import Counter   \n",
    "h_a['Common Char'] = 0\n",
    "com_char = []\n",
    "for i in range(len(h_a[\"Hungarian\"])):\n",
    "    common_letters = Counter(h_a.Hungarian.iloc[i]) & Counter(h_a.Albanian.iloc[i])\n",
    "    com_char.append(sum(common_letters.values()))\n",
    "h_a['Common Char'] = com_char\n",
    "\n",
    "\n",
    "com_char2 = []\n",
    "\n",
    "for i in range(len(h_b[\"Hungarian\"])):\n",
    "    common_letters = Counter(h_b.Hungarian.iloc[i]) & Counter(h_b.Bulgarian.iloc[i])\n",
    "    com_char2.append(sum(common_letters.values()))\n",
    "\n",
    "h_b['Common Char'] = com_char2\n",
    "\n",
    "com_char3 = []\n",
    "\n",
    "\n",
    "for i in range(len(h_r[\"Hungarian\"])):\n",
    "    common_letters = Counter(h_r.Hungarian.iloc[i]) & Counter(h_r.Romanian.iloc[i])\n",
    "    com_char3.append(sum(common_letters.values()))\n",
    "    \n",
    "h_r['Common Char'] = com_char3\n"
   ]
  },
  {
   "cell_type": "code",
   "execution_count": 31,
   "metadata": {},
   "outputs": [],
   "source": [
    "r_stack = h_r[['Romanian', 'R Word Length' , 'R Vowel Count' , 'R Consonant Count' , 'Common Char']].copy()\n",
    "\n",
    "b_stack = h_b[['Bulgarian', 'B Word Length' , 'B Vowel Count' , 'B Consonant Count' , 'Common Char']].copy()\n",
    "\n",
    "a_stack = h_a[['Albanian', 'A Word Length' , 'A Vowel Count' , 'A Consonant Count' , 'Common Char']].copy()\n",
    "\n",
    "r_stack['Language'] = 'romanian'\n",
    "\n",
    "a_stack['Language'] = 'albanian'\n",
    "\n",
    "b_stack['Language'] = 'bulgarian'\n",
    "\n",
    "a_stack = a_stack.rename(columns = {'Albanian':'Word', 'A Word Length':'Length', 'A Vowel Count': 'Vowel', 'A Consonant Count': 'Cons'})\n",
    "\n",
    "b_stack = b_stack.rename(columns = {'Bulgarian':'Word', 'B Word Length':'Length', 'B Vowel Count': 'Vowel', 'B Consonant Count': 'Cons'})\n",
    "\n",
    "r_stack = r_stack.rename(columns = {'Romanian':'Word', 'R Word Length':'Length', 'R Vowel Count': 'Vowel', 'R Consonant Count': 'Cons'})\n",
    "\n",
    "words = []\n",
    "length = []\n",
    "vowel = []\n",
    "cons = []\n",
    "common = []\n",
    "lang = []"
   ]
  },
  {
   "cell_type": "code",
   "execution_count": 32,
   "metadata": {},
   "outputs": [],
   "source": [
    "for i in b_stack['Word']:\n",
    "    words.append(i)\n",
    "\n",
    "for i in r_stack['Word']:\n",
    "    words.append(i)\n",
    "\n",
    "for i in a_stack['Word']:\n",
    "    words.append(i)\n",
    "    \n",
    "for i in a_stack['Length']:\n",
    "    length.append(i)\n",
    "    \n",
    "for i in b_stack['Length']:\n",
    "    length.append(i)\n",
    "    \n",
    "for i in r_stack['Length']:\n",
    "    length.append(i)\n",
    "\n",
    "for i in a_stack['Vowel']:\n",
    "    vowel.append(i)\n",
    "    \n",
    "for i in b_stack['Vowel']:\n",
    "    vowel.append(i)\n",
    "    \n",
    "for i in r_stack['Vowel']:\n",
    "    vowel.append(i)\n",
    "\n",
    "for i in a_stack['Cons']:\n",
    "    cons.append(i)\n",
    "    \n",
    "for i in b_stack['Cons']:\n",
    "    cons.append(i)\n",
    "    \n",
    "for i in r_stack['Cons']:\n",
    "    cons.append(i)\n",
    "    \n",
    "for i in a_stack['Language']:\n",
    "    lang.append(i)\n",
    "    \n",
    "for i in b_stack['Language']:\n",
    "    lang.append(i)\n",
    "    \n",
    "for i in r_stack['Language']:\n",
    "    lang.append(i)\n",
    "    \n",
    "for i in a_stack['Common Char']:\n",
    "    common.append(i)\n",
    "    \n",
    "for i in b_stack['Common Char']:\n",
    "    common.append(i)    \n",
    "    \n",
    "for i in r_stack['Common Char']:\n",
    "    common.append(i)\n",
    "    "
   ]
  },
  {
   "cell_type": "code",
   "execution_count": 35,
   "metadata": {},
   "outputs": [],
   "source": [
    "hung_comparison = pd.DataFrame( {'Word': words, 'Length': length, 'Vowel': vowel, 'Cons': cons, 'Common Char': common, 'Language': lang })\n",
    "hung_comparison['Cons Percent'] = hung_comparison['Cons']/hung_comparison['Length']\n",
    "three_more = hung_comparison[hung_comparison['Common Char'] >= 3].copy()\n",
    "three_less = hung_comparison[hung_comparison['Common Char'] < 3].copy()"
   ]
  },
  {
   "cell_type": "code",
   "execution_count": 36,
   "metadata": {},
   "outputs": [],
   "source": [
    "from sklearn.linear_model import LinearRegression\n",
    "from sklearn.cluster import KMeans"
   ]
  },
  {
   "cell_type": "code",
   "execution_count": 37,
   "metadata": {},
   "outputs": [
    {
     "name": "stdout",
     "output_type": "stream",
     "text": [
      "Length\n",
      "slope: [[0.24153038]]\n",
      "R-squared: 0.1630538690572243\n",
      "\n",
      "Vowel\n",
      "slope: [[0.42066308]]\n",
      "R-squared: 0.12083786419211584\n",
      "\n",
      "Cons Percent\n",
      "slope: [[-0.21674405]]\n",
      "R-squared: 0.00041089905937907734\n",
      "\n",
      "Language\n",
      "slope: [[0.1245633]]\n",
      "R-squared: 0.00677923850976303\n",
      "\n"
     ]
    }
   ],
   "source": [
    "lang_map = {\"albanian\": 1, \"bulgarian\": 2, \"romanian\": 3}\n",
    "hung_comparison['Language'] = hung_comparison['Language'].map(lang_map)\n",
    "\n",
    "categories = ['Length', 'Vowel', 'Cons Percent','Language']\n",
    "\n",
    "for i in categories: \n",
    "    cat_df = pd.DataFrame({i: hung_comparison[i], 'Common' : hung_comparison['Common Char']})\n",
    "    cat_model = LinearRegression().fit(cat_df[[i]], cat_df[['Common']])\n",
    "    predict_cat = cat_model.predict(cat_df[[i]])\n",
    "    print(i)\n",
    "    print('slope: {}'.format(cat_model.coef_))\n",
    "    print('R-squared: {}'.format(cat_model.score(cat_df[[i]], cat_df[['Common']])))\n",
    "    print('')"
   ]
  },
  {
   "cell_type": "code",
   "execution_count": 38,
   "metadata": {},
   "outputs": [
    {
     "name": "stdout",
     "output_type": "stream",
     "text": [
      "slope: [[-0.30470361  0.57519607  0.52932925 -0.02115352]]\n",
      "R-squared: 0.16359257960835227\n"
     ]
    }
   ],
   "source": [
    "categories = pd.DataFrame({'Length' : hung_comparison['Length'], 'Vowel' : hung_comparison['Vowel'], 'Cons' : hung_comparison['Cons'], 'Country Distance' : hung_comparison['Language'] })\n",
    "common = pd.DataFrame({'Common' : hung_comparison['Common Char']})\n",
    "model = LinearRegression().fit(categories, common)\n",
    "common_predict = model.predict(categories)\n",
    "\n",
    "\n",
    "print('slope: {}'.format(model.coef_))\n",
    "print('R-squared: {}'.format(model.score(categories, common)))\n"
   ]
  },
  {
   "cell_type": "code",
   "execution_count": 39,
   "metadata": {},
   "outputs": [],
   "source": [
    "hung_comparison['Vowel Percent'] = hung_comparison['Vowel']/hung_comparison['Length']\n",
    "\n",
    "def more_three(int): \n",
    "    if int >= 3:\n",
    "        return 'Yes'\n",
    "    else:\n",
    "        return 'No'\n",
    "\n",
    "array = []\n",
    "for i in hung_comparison['Common Char']:\n",
    "    array.append(more_three(i))\n",
    "\n",
    "hung_comparison['More Three'] = array\n",
    "\n",
    "hung_comparison['Language'] = [float(i) for i in hung_comparison['Language']]\n",
    "\n",
    "from sklearn.model_selection import train_test_split"
   ]
  },
  {
   "cell_type": "code",
   "execution_count": 40,
   "metadata": {},
   "outputs": [
    {
     "name": "stdout",
     "output_type": "stream",
     "text": [
      "slope: 0.2430207\n"
     ]
    }
   ],
   "source": [
    "from sklearn.linear_model import LogisticRegression\n",
    "import numpy\n",
    "\n",
    "y = numpy.ravel(hung_comparison[['More Three']])\n",
    "\n",
    "model = LogisticRegression().fit(hung_comparison[['Language']], y)\n",
    "\n",
    "predict = model.predict(hung_comparison[['Language']])\n",
    "\n",
    "print('slope: {:.7f}'.format(float(model.coef_)))"
   ]
  },
  {
   "cell_type": "code",
   "execution_count": 41,
   "metadata": {},
   "outputs": [],
   "source": [
    "X_train, X_test, y_train, y_test = train_test_split(hung_comparison[['Language']], hung_comparison[['More Three']], test_size=0.20, random_state=15)\n"
   ]
  },
  {
   "cell_type": "code",
   "execution_count": 42,
   "metadata": {},
   "outputs": [
    {
     "name": "stdout",
     "output_type": "stream",
     "text": [
      "percent accurate: 82.4%\n"
     ]
    }
   ],
   "source": [
    "new_df = pd.DataFrame({'Language': X_test['Language']})\n",
    "predict_one = model.predict(new_df[['Language']])\n",
    "\n",
    "predict_one = numpy.ravel(predict_one)\n",
    "y_test = numpy.ravel(y_test)\n",
    "\n",
    "accurate = 0\n",
    "\n",
    "for i in range(len(predict_one)):\n",
    "    if predict_one[i] == y_test[i]:\n",
    "        accurate += 1\n",
    "\n",
    "print('percent accurate: {:.1f}%'.format((accurate/len(y_test))*100))"
   ]
  },
  {
   "cell_type": "code",
   "execution_count": 44,
   "metadata": {},
   "outputs": [
    {
     "name": "stdout",
     "output_type": "stream",
     "text": [
      "percent accurate: 83.2%\n"
     ]
    }
   ],
   "source": [
    "train_df = pd.DataFrame({'Language': X_train['Language']})\n",
    "\n",
    "predict_two = model.predict(train_df[['Language']])\n",
    "\n",
    "predict_two = numpy.ravel(predict_two)\n",
    "y_train = numpy.ravel(y_train)\n",
    "\n",
    "accurate2 = 0\n",
    "\n",
    "for i in range(len(predict_two)):\n",
    "    if predict_two[i] == y_train[i]:\n",
    "        accurate2 += 1\n",
    "\n",
    "print('percent accurate: {:.1f}%'.format((accurate2/len(y_train))*100))"
   ]
  },
  {
   "cell_type": "code",
   "execution_count": null,
   "metadata": {},
   "outputs": [],
   "source": []
  }
 ],
 "metadata": {
  "kernelspec": {
   "display_name": "Python 3",
   "language": "python",
   "name": "python3"
  },
  "language_info": {
   "codemirror_mode": {
    "name": "ipython",
    "version": 3
   },
   "file_extension": ".py",
   "mimetype": "text/x-python",
   "name": "python",
   "nbconvert_exporter": "python",
   "pygments_lexer": "ipython3",
   "version": "3.8.2"
  }
 },
 "nbformat": 4,
 "nbformat_minor": 4
}
