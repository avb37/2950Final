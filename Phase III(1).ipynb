{
 "cells": [
  {
   "cell_type": "markdown",
   "metadata": {},
   "source": [
    "### Clustering\n",
    "\n",
    "I know that I want to cluster my data in different ways, but the more I think about clustering, the more I realize more creative I will need to be. \n",
    "\n",
    "Here are some thoughts I have: \n",
    "\n",
    "If I want to cluster my results by language the way we clusted by penguin species in the homework, I would need a large collection of data that has data points from a collection of languages and see if there is a relationship between a data point's language and whatever else I am measuring. In the homework, we had Bill Length on the x axis, Flipper length on the y axis, and we attempted to cluster by species.\n",
    "\n",
    "I've decided the first analysis I will do is look at the historical influence of the Ottoman Empire on languages. I want to see if there is a relationship between the distance a country has from Turkey and the amount of words in common with the Turkish language. \n",
    "\n",
    "I think what I will do is clean up the datasets I have and merge them into one large dataset. This dataset will have this per row: a word in english, a column for each translation (if it exists) into the languages I am analyzing. It will look like:\n",
    "[word]x[lang1]x[lang2]x[lang3]...\n",
    "\n",
    "I will transpose this into a new table that has these columns: \n",
    "[word]x[translation]x[language]x[city]x[distance from Istanbul]x[number letters in common]x[percentage in common]\n",
    "for each word even if it repeats so that each row only has one language. \n",
    "\n",
    "On the x axis I will have the number of letters in common and on the y axis I will have the percentage that is. \n",
    "\n",
    "I will perform two clustering analyses, one by language, and one by city/distance.\n",
    "\n"
   ]
  },
  {
   "cell_type": "markdown",
   "metadata": {},
   "source": [
    "I also want to look at this by verbs, nouns, adjectives, and groups of words similar to this."
   ]
  },
  {
   "cell_type": "markdown",
   "metadata": {},
   "source": [
    "Lastly, I would like to look at a city as each entry, on the x axis is the percentage of words in common with the turkish language spoken in that city, on the y axis will be the distance from Istanbul, and then I will look to see if there is a positive correlation and if I can cluster by language. "
   ]
  },
  {
   "cell_type": "markdown",
   "metadata": {},
   "source": [
    "### Questions for reviewers:\n",
    "\n",
    "- Is there anything else I can look at other than clustering and correlation?"
   ]
  },
  {
   "cell_type": "code",
   "execution_count": null,
   "metadata": {},
   "outputs": [],
   "source": []
  }
 ],
 "metadata": {
  "kernelspec": {
   "display_name": "Python 3",
   "language": "python",
   "name": "python3"
  },
  "language_info": {
   "codemirror_mode": {
    "name": "ipython",
    "version": 3
   },
   "file_extension": ".py",
   "mimetype": "text/x-python",
   "name": "python",
   "nbconvert_exporter": "python",
   "pygments_lexer": "ipython3",
   "version": "3.8.5"
  }
 },
 "nbformat": 4,
 "nbformat_minor": 4
}
