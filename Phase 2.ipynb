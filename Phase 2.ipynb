{
 "cells": [
  {
   "cell_type": "code",
   "execution_count": 2,
   "metadata": {},
   "outputs": [],
   "source": [
    "import pandas as pd\n",
    "import numpy as np\n",
    "import matplotlib.pyplot as plt\n",
    "from bs4 import BeautifulSoup "
   ]
  },
  {
   "cell_type": "markdown",
   "metadata": {},
   "source": [
    "### I want to first apologize because I'm handing this in super late. I'm kind of behind in all my classes and having a hard time keeping things organized and meeting deadlines because all of my classes are online this semester. I also just got rejected from all these companies and this week has been weird. I'm not sure if I've done everything I'm supposed to for this phase. \n",
    "\n",
    "## Intro:\n",
    "\n",
    "My project will be analyzing linguistic trends in the Balkan peninsula. The bulk of my work will be analyzing linguistic trends between large works translated into each of the languages. I will also analyze smaller sets of data to compliment the overarching findings. \n",
    "\n",
    "Below, you will see that I imported a small table from Wikipedia that displayed the 12 Balkan nations and the languages spoken within them. I created a graph to show the percentage of people within each nation that speaks the most common language in that nation. This hints at a correlation I plan to explore later between the nation's age, recent border changes, mass migrations, among other factors. I also observed the presence of 15 unique langauges (I did not include languages spoken by less than 1% of a nation's population or dialects that are not distinctily considered to be a unique language by most linguists).\n",
    "\n",
    "## Questions:\n",
    "\n",
    "I want to look at two overarching aspects of this region. \n",
    "- 1. Are there relationships between historical trends and current linguistic trends?\n",
    "- 2. Are there relationships between linguistic trends and nations' trajectories? \n",
    "\n",
    "To summarize, I want to look at a nation like Montenegro, in which less than 50% of citizens speak the most common language, then see what happened in the country's past that could have contributed to this, what this could mean for the nation's internal cohesion in the present, and if this could impact the nation's future in any way.\n",
    "\n",
    "## Challenges: \n",
    "\n",
    "I have imported a few small datasets as of now, and I have also imported a large amount of data collected from the European parliament translated into various languages from this region. These datasets are each above 50MB and are quite large. I have run into some issues already because I did not attempt to open the data until recently, only to find that I'm having trouble even accessing it. It turns out that the data comes in an .sgm file, which we can use BeautifulSoup to read and web scrape. I aim to organize my data, simplify it, and rely on web scraping as little as possible and more on datasets that I know are of quality. Right now I have a starting point for my project I suppose and a rough direction I plan to go in.\n",
    "\n",
    "An obvious challenge is going to be working with different spellings. It will be impossible to conduct analysis at a level of accuracy that I would prefer in the span of a semester with no background in conducting linguistic analysis or using software other than the one I am currently using. Each of these languages have their own alphabets, and even the romanized alphabets have accents that once replaced with other symbols in Jupyter may distort the meaning behind words. There will be trends that will be missed and trends that will be observed that are misleading. I'm already worried about working with the Romanian language because there will be variations of \"a\" and \"i\" used interchangeably that will throw off the data, especially depending on when the data was obtained since many words with \"i\" were changed to an \"a\" spelling after the most recent coup in 1989. However, things like this will also point to interesting trends. \n",
    "\n",
    "I think to mitigate this, while staying within the scope of this class and the software given to us, I can first research the alphabets of the langauges I'm analyzing and account for letters that may be used interchangeably in romanzied spellings. This will be particularly important for Greek texts, since Greek does not use the roman alphabet. \n",
    "\n",
    "I'm going to avoid comparing datasets from different sources and stick to as few sets as possible to avoid the issues explained above. If I use material from the same translation company, then there will be consistency in romanization. I also want to try to look for things written in the universal phoenetic alphabet. Lastly, I'm going to analyze trends that do not rely on word spelling (especially vowel sounds) and look at word lengths, syllables, consanents, usage of certain features (such as consonents in Hungarian), and overarching trends such as the percentage of people who speak each langauge in these regions and its proximity to neighboring languages, etc. \n",
    "\n",
    "Another thing I'm worried about is consistency in the words included in databases. I know that there are, for example, around 500 words borrowed from Turkish in the Romanian language. However, Wikipedia will only show you 200 of them, and the data table I will be working with here has around 50. I would not be able to accurately conclude that some languages are more similar to others simply based on numbers such as these. Additionally, some of this analysis may be territory that linguists have not even published findings on yet.\n",
    "\n",
    "The last part of my project will be to analyze other factors about these languages, like different characteristics about the nations and groups that speak the languages, political history, etc. I am not worried about this part because this data will be easy to work with. I predict I will end up doing more of this than originally intended because it will be easier."
   ]
  },
  {
   "cell_type": "code",
   "execution_count": 24,
   "metadata": {},
   "outputs": [],
   "source": [
    "data = pd.read_csv(\"Balkan_Langs.csv\")"
   ]
  },
  {
   "cell_type": "code",
   "execution_count": 25,
   "metadata": {},
   "outputs": [],
   "source": [
    "balkan_langs = data.drop('Country', 1)\n",
    "balkan_langs['Main Language'] = [i.lower() for i in balkan_langs['Main Language']]   \n",
    "balkan_langs['Main Language'] = [i[3:] for i in balkan_langs['Main Language']]    \n",
    "drop = balkan_langs['Minority Language'].dropna()"
   ]
  },
  {
   "cell_type": "code",
   "execution_count": 26,
   "metadata": {},
   "outputs": [],
   "source": [
    "list = []\n",
    "for i in drop:\n",
    "    i = i.split(\",\")\n",
    "    for j in i:\n",
    "        j = j.lower()\n",
    "        j = j[3:]\n",
    "        list.append(j)\n",
    "minority = pd.DataFrame( {\"name\" : list})\n",
    "minority = minority.drop_duplicates()"
   ]
  },
  {
   "cell_type": "code",
   "execution_count": 5,
   "metadata": {},
   "outputs": [],
   "source": [
    "new = []\n",
    "for i in minority['name']: \n",
    "    new.append(i)\n",
    "for j in balkan_langs['Main Language']:\n",
    "    new.append(j)    \n",
    "two = []\n",
    "for i in new: \n",
    "    i = i.replace('(official)', '')\n",
    "    two.append(i)"
   ]
  },
  {
   "cell_type": "code",
   "execution_count": 6,
   "metadata": {},
   "outputs": [],
   "source": [
    "x = pd.Series(two)\n",
    "unique = pd.DataFrame(x)\n",
    "unique = unique[unique != ' other']\n",
    "unique = unique[unique != 'other']\n",
    "unique = unique[unique != ' unspecified']\n",
    "unique = unique[unique != ' other and unspecified']\n",
    "unique.drop_duplicates()\n",
    "unique = unique.dropna()\n",
    "unique[0] = [i.replace(\" \", \"\") for i in unique[0]]\n",
    "unique[0] = [i.replace(\"%\", \"\") for i in unique[0]]\n",
    "unique = unique.drop_duplicates()"
   ]
  },
  {
   "cell_type": "code",
   "execution_count": 7,
   "metadata": {},
   "outputs": [],
   "source": [
    "unique = unique.rename(columns = {0:'unique_langs'})\n",
    "balkan = data.drop(columns=['Unnamed: 0','Unnamed: 4','Unnamed: 5', 'Unnamed: 6', 'https://en.wikipedia.org/wiki/Balkans'])\n",
    "balkan.columns = ['country', 'main_lang%', 'minority']"
   ]
  },
  {
   "cell_type": "code",
   "execution_count": 11,
   "metadata": {},
   "outputs": [],
   "source": [
    "''' \n",
    "Below I'm trying to see if I can import the text I found in different languages using Beautiful Soup. \n",
    "It seems to work! This is the data that I will be donig a lot of work on because it is large in size. \n",
    "'''\n",
    "a = open('alb01.sgm')\n",
    "data= a.read()\n",
    "soup = BeautifulSoup(data)\n"
   ]
  },
  {
   "cell_type": "code",
   "execution_count": 8,
   "metadata": {},
   "outputs": [
    {
     "data": {
      "text/plain": [
       "Text(0.5, 1.0, 'Percentage of People Who Speak Main Language')"
      ]
     },
     "execution_count": 8,
     "metadata": {},
     "output_type": "execute_result"
    },
    {
     "data": {
      "image/png": "[encoded data removed]",
      "text/plain": [
       "<Figure size 720x216 with 1 Axes>"
      ]
     },
     "metadata": {
      "needs_background": "light"
     },
     "output_type": "display_data"
    }
   ],
   "source": [
    "bm = balkan.loc[:, ('country', 'main_lang%')]\n",
    "bm.loc[:, ('country')] = bm.loc[:, ('country')].str.lower()\n",
    "bm.loc[:, ('country')] = bm.loc[:, ('country')].replace(' ', '_', regex=True)\n",
    "bm.loc[:, ('country')] = bm.loc[:, ('country')].replace('bosnia_and_herzegovina', 'b&h', regex=True)\n",
    "bm.loc[:, ('country')] = bm.loc[:, ('country')].replace('north_macedonia', 'n_mac', regex=True)\n",
    "bm.loc[:, ('country')] = bm.loc[:, ('country')].replace('kosovo', 'kos', regex=True)\n",
    "bm.loc[:, ('country')] = bm.loc[:, ('country')].replace('montenegro', 'mont', regex=True)\n",
    "bm.loc[:, ('main_lang%')] = bm.loc[:, ('main_lang%')].apply(lambda x: x[:2])\n",
    "bm['main_lang%'] = [int(i) for i in bm['main_lang%']]\n",
    "\n",
    "bm.plot(x ='country', y='main_lang%', kind = 'scatter', figsize =(10,3))\n",
    "plt.title(\"Percentage of People Who Speak Main Language\")\n"
   ]
  },
  {
   "cell_type": "code",
   "execution_count": 22,
   "metadata": {},
   "outputs": [
    {
     "name": "stdout",
     "output_type": "stream",
     "text": [
      "      unique_langs\n",
      "11        albanian\n",
      "8          bosnian\n",
      "21       bulgarian\n",
      "2         croatian\n",
      "23           greek\n",
      "15       hungarian\n",
      "17         kurdish\n",
      "26      macedonian\n",
      "10     montenegrin\n",
      "5           romani\n",
      "27        romanian\n",
      "1          serbian\n",
      "16  serbo-croatian\n",
      "29         slovene\n",
      "4          turkish\n",
      "Number of unique langauges spoken by more than 1% of a nation: 15\n"
     ]
    }
   ],
   "source": [
    "unique = unique.sort_values(by='unique_langs')\n",
    "print(unique)\n",
    "print(\"Number of unique langauges spoken by more than 1% of a nation: {}\".format(unique.shape[0]))\n"
   ]
  },
  {
   "cell_type": "code",
   "execution_count": 18,
   "metadata": {},
   "outputs": [
    {
     "data": {
      "text/plain": [
       "15"
      ]
     },
     "execution_count": 18,
     "metadata": {},
     "output_type": "execute_result"
    }
   ],
   "source": [
    "albanian = pd.read_csv(\"Albanian.csv\")\n",
    "bulgarian = pd.read_csv(\"Bulgarian.csv\")\n",
    "greek = pd.read_csv(\"Greek.csv\")\n",
    "hungarian = pd.read_csv(\"Hungarian.csv\")\n",
    "romanian = pd.read_csv(\"Romanian.csv\")\n",
    "\n",
    "albanian = albanian[['Name', 'Parameter']]\n",
    "bulgarian = bulgarian[['Name', 'Parameter']]\n",
    "greek = greek[['Name', 'Parameter']]\n",
    "hungarian = hungarian[['Name', 'Parameter']]\n",
    "romanian = romanian[['Name', 'Parameter']]"
   ]
  },
  {
   "cell_type": "code",
   "execution_count": 29,
   "metadata": {},
   "outputs": [
    {
     "name": "stdout",
     "output_type": "stream",
     "text": [
      "            Name       Parameter\n",
      "0           lume           world\n",
      "1        pami_nt     earth, land\n",
      "2         t_ar__     earth, land\n",
      "3           praf            dust\n",
      "4        pulbere            dust\n",
      "...          ...             ...\n",
      "1224      stafie  ghost, phantom\n",
      "1225     spectru  ghost, phantom\n",
      "1226    fantoma_  ghost, phantom\n",
      "1227       augur   omen, portent\n",
      "1228  prevestire   omen, portent\n",
      "\n",
      "[1229 rows x 2 columns]\n",
      "                 Name       Parameter\n",
      "0               'bot_           world\n",
      "1                  _e           world\n",
      "2     r_okul_i a'l_em           world\n",
      "3              du_'_a           world\n",
      "4               'tok_     earth, land\n",
      "...               ...             ...\n",
      "1972          l_u'gat  ghost, phantom\n",
      "1973          'k_ipul  ghost, phantom\n",
      "1974       kuku'vrik_  ghost, phantom\n",
      "1975            o'gur   omen, portent\n",
      "1976             v_ng   omen, portent\n",
      "\n",
      "[1977 rows x 2 columns]\n",
      "                   Name           Parameter\n",
      "0     'kosmos ['kozmos]               world\n",
      "1                   '_i         earth, land\n",
      "2                   '_i  earth=ground, soil\n",
      "3               'e_afos  earth=ground, soil\n",
      "4                 'xoma  earth=ground, soil\n",
      "...                 ...                 ...\n",
      "1715           'fadasma      ghost, phantom\n",
      "1716            'pnefma      ghost, phantom\n",
      "1717        vri'kolakas      ghost, phantom\n",
      "1718         pro'minima       omen, portent\n",
      "1719             io'nos       omen, portent\n",
      "\n",
      "[1720 rows x 2 columns]\n",
      "          Name           Parameter\n",
      "0        világ               world\n",
      "1         föld         earth, land\n",
      "2         föld  earth=ground, soil\n",
      "3        talay  earth=ground, soil\n",
      "4          por                dust\n",
      "...        ...                 ...\n",
      "1625  varázsló     sorcerer, witch\n",
      "1626    b_vész     sorcerer, witch\n",
      "1627   szellem          fairy, elf\n",
      "1628  kísértet      ghost, phantom\n",
      "1629    el_yel       omen, portent\n",
      "\n",
      "[1630 rows x 2 columns]\n",
      "                       Name           Parameter\n",
      "0                    svját               world\n",
      "1                    zemjá         earth, land\n",
      "2                    zemjá  earth=ground, soil\n",
      "3                   póčva  earth=ground, soil\n",
      "4                      prax                dust\n",
      "...                     ...                 ...\n",
      "1995  proklínam/ prokəlná               curse\n",
      "1996                 kəlná               curse\n",
      "1997              [póstja]           fast (vb)\n",
      "1998                  nebé              heaven\n",
      "1999                 [ráj]              heaven\n",
      "\n",
      "[2000 rows x 2 columns]\n"
     ]
    }
   ],
   "source": [
    "print(romanian)\n",
    "print(albanian)\n",
    "print(greek)\n",
    "print(hungarian)\n",
    "print(bulgarian)"
   ]
  },
  {
   "cell_type": "markdown",
   "metadata": {},
   "source": [
    "### After looking at these, I want to zoom in on the words for \"dust\" in these languages.\n",
    "I also have noticed that special characters have been replaced with underscores, which will make this very difficult."
   ]
  },
  {
   "cell_type": "code",
   "execution_count": 61,
   "metadata": {},
   "outputs": [
    {
     "name": "stdout",
     "output_type": "stream",
     "text": [
      "Romanian:      Name Parameter\n",
      "3     praf      dust\n",
      "4  pulbere      dust\n",
      "\n",
      "Hungarian:  Name Parameter\n",
      "4  por      dust\n",
      "\n",
      "Albanian:      Name Parameter\n",
      "8  'pluhur      dust\n",
      "\n",
      "Bulgarian:   Name Parameter\n",
      "4  prax      dust\n",
      "\n",
      "Greek:     Name Parameter\n",
      "5  'skoni      dust\n",
      "\n"
     ]
    }
   ],
   "source": [
    "print(\"Romanian:{}\\n\".format(romanian.loc[romanian['Parameter'] == 'dust']))\n",
    "print(\"Hungarian:{}\\n\".format(hungarian.loc[hungarian['Parameter'] == 'dust']))\n",
    "print(\"Albanian:{}\\n\".format(albanian.loc[albanian['Parameter'] == 'dust']))\n",
    "print(\"Bulgarian:{}\\n\".format(bulgarian.loc[bulgarian['Parameter'] == 'dust']))\n",
    "print(\"Greek:{}\\n\".format(greek.loc[greek['Parameter'] == 'dust']))"
   ]
  },
  {
   "cell_type": "markdown",
   "metadata": {},
   "source": [
    "## Observations:\n",
    "As you can see, all languages here except for Greek share the letters \"p\" and \"r\" in the word for dust. A few use the \"a\" vowel and a few use the \"u\" vowel. \n",
    "\n",
    "## Plan:\n",
    "There are a few things I want to do. I want to find some way to organize this data and find relevant trends. I also need to figure out what I will do about the underscores that are replacing special characters. I need to figure out how I will group data and figure out what kinds of words they are using in this dictionary and also how I will group them together. I would also like to create some Python functions that help me with this and return values that I can use for these trends. This will be a lot of work, but I'm passionate about this so I'm not too worried."
   ]
  },
  {
   "cell_type": "code",
   "execution_count": null,
   "metadata": {},
   "outputs": [],
   "source": []
  }
 ],
 "metadata": {
  "kernelspec": {
   "display_name": "Python 3",
   "language": "python",
   "name": "python3"
  },
  "language_info": {
   "codemirror_mode": {
    "name": "ipython",
    "version": 3
   },
   "file_extension": ".py",
   "mimetype": "text/x-python",
   "name": "python",
   "nbconvert_exporter": "python",
   "pygments_lexer": "ipython3",
   "version": "3.8.5"
  }
 },
 "nbformat": 4,
 "nbformat_minor": 4
}
