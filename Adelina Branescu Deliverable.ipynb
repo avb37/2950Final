{
 "cells": [
  {
   "cell_type": "code",
   "execution_count": 1,
   "metadata": {},
   "outputs": [],
   "source": [
    "import pandas as pd\n",
    "import numpy as np\n",
    "from matplotlib import pyplot as plt\n",
    "import re\n",
    "import seaborn as sns\n",
    "from sklearn.linear_model import LinearRegression\n",
    "from sklearn.cluster import KMeans\n",
    "from collections import Counter\n",
    "from sklearn.model_selection import train_test_split\n",
    "from sklearn.linear_model import LogisticRegression\n",
    "\n"
   ]
  },
  {
   "cell_type": "markdown",
   "metadata": {},
   "source": [
    "### Adelina Branescu\n",
    "### Solo Project\n",
    "\n",
    "# Introduction\n",
    "\n",
    "This project explored the similarities and differences between languages inside and neighboring the Balkan peninsula. I looked at the linguistic influence of the former Austro-Hungarian empire on three nearby countries: Romania, Bulgaria, and Albania. \n",
    "\n",
    "Curiously, the four languages analyzed in this project (as with many languages within that region of Europe) have no significant linguistic similarities. Hungarian is an Uralic language, a category that features Finnish and Estonian as well. Hungary is in between Central Europe, Eastern Europe, and the Balkan Peninsula. It formerly belonged to the Austro-Hungarian empire, and its language left and culture left some influence in the region. \n",
    "\n",
    "Romanian is a Balkan Romance language native to Romania and Moldova that is Latin based and thus evolved from Vulgar Latin. This puts it in the same category as Spanish, French, Italian, and Portugese, for example. I predict that Romanian will be more likely to contain words borrowed from Hungarian than the other languages in this project because part of Romania once belonged to Hungary.\n",
    "\n",
    "Lastly, Albanian is an Indo-European language with no known language in its language group and contesting hypotheses regarding its origins. Evidently, none of these four languages belong to the same linguistic group and native speakers from each respective language cannot understand each other for the most part. However, to a foreigner outside the region, they tend to sound somewhat similar and clearly have more in common than languages from other regions of the world. Additionally, many words do share roots and are borrowed between each other. In this project, I will show examples of some before scratching the surface of similarities and differences between the languages.\n",
    "\n",
    "### Ultimately, I answered these questions: \n",
    "\n",
    "1) Is Romanian more similar to Hungarian than Bulgarian and Albanian are?\n",
    "\n",
    "The answer is no, it is not more similar. Although Romanian tends to have more borrowed words, it does not look like the language as a whole displays any larger similarities. This suggests that proximity to a country does not offer enough clues about similarity. Romanian shares the most characters with other Latin based languages found in Western Europe at a farther distance than the countries in the Balkan Peninsula.\n",
    "\n",
    "2) What features are specific to each of these languages? \n",
    "\n",
    "The length of words, the number of vowels or consonants, and the ratio of vowels to consonants offered the most clues in distinguishing these languages from each other. \n",
    "    \n",
    "### These are some questions that I ended up exploring in the project: \n",
    "\n",
    "- How can I model similarity between languages? Is looking at common characters enough of a starting point?\n",
    "    - The answer turned out to be no, looking at characters in common is not enough. It helps find cognates and similar words, but it does not account for patterns that may be borrowed between lagnauges. \n",
    "- What do borrowed words have in conmmon?\n",
    "    - The words in this dataset that had 4 or more letters in common with its Hungarian counterpart tended to be cognates. They tended to be lengthy words with a roughly 4:3 consonant to vowel ratio. They were often times farming related and found in all three languages.\n",
    "- Can we predict what language a word is based on specific features?\n",
    "    - Yes, it seems we can! There was moderate success in predicting what language a word belonged to based on key features. This also showed how different two languages from neighboring countries can be despite sounding similar when spoken. An explanation for this could be that pronunciation styles are shared within regions with little impact on the actual language itself.\n",
    "- Does a language's similarity to Hungarian help us identify the language?\n",
    "    - No, my already poor model of measuring similarity only increased the accuracy of my prediction model by a few percentage points.  "
   ]
  },
  {
   "cell_type": "markdown",
   "metadata": {},
   "source": [
    "### Example\n",
    "\n",
    "Here is how 'dust' is said in each language:\n",
    "\n",
    "Romanian:      \n",
    "\n",
    "3     praf     \n",
    "\n",
    "4  pulbere      \n",
    "\n",
    "Hungarian: \n",
    "\n",
    "4  por      \n",
    "\n",
    "\n",
    "Albanian:     \n",
    "\n",
    "8  'pluhur     \n",
    "\n",
    "\n",
    "Bulgarian:   \n",
    "\n",
    "4  prax     \n"
   ]
  },
  {
   "cell_type": "markdown",
   "metadata": {},
   "source": [
    "# Data Description\n",
    "\n",
    "- Where can your raw source data be found, if applicable?\n",
    "    \n",
    "    - [Hungarian Raw Data](https://ids.clld.org/contributions/179)\n",
    "    - [Hungarian GitHub 70.4 KB](https://github.com/avb37/2950Final/blob/master/Hungarian.csv) \n",
    "    - [Albanian Raw Data](https://ids.clld.org/contributions/205)\n",
    "    - [Albanian GitHub 110 KB](https://github.com/avb37/2950Final/blob/master/Albanian.csv)\n",
    "    - [Bulgarian Raw Data](https://ids.clld.org/contributions/200)\n",
    "    - [Bulgarian GitHub 95.2 KB](https://github.com/avb37/2950Final/blob/master/Bulgarian.csv)\n",
    "    - [Romanian Raw Data](https://ids.clld.org/contributions/179)\n",
    "    - [Romanian GitHub 51.1 KB](https://github.com/avb37/2950Final/blob/master/Romanian.csv)\n",
    "\n",
    "- What are the observations (rows) and the attributes (columns)?\n",
    "    - Name: word in respective language\n",
    "    - Parameter: word in English\n",
    "    - Language: Romanian, Albanian, Hungarian, or Bulgarian\n",
    "   \n",
    "- Why was this dataset created?\n",
    "    - These datasets are created for public use, for research purposes, by The Intercontinental Dictionary Series, with Founding Editor: Mary Ritchie Key, General Editor: Bernard Comrie.\n",
    "\n",
    "- What processes might have influenced what data was observed and recorded and what was not?\n",
    "    - Not all existing words may have been recorded, which can sway data in a certain way depending on what words were selected.\n",
    "    \n",
    "- What preprocessing was done, and how did the data come to be in the form that you are using?\n",
    "    - [merged_clean.csv](merged_clean.csv) Is the dataset I created that compiled 4 of these datasets into one. I removed any rows that contained NaN so that each word used contained a translation in each language. I did not want to exclude certain languages from the analysis of particular words because that would sway my results.\n",
    "    \n"
   ]
  },
  {
   "cell_type": "markdown",
   "metadata": {},
   "source": [
    "# Preregistration statement\n",
    "\n",
    "*Disclaimer: I could not find data for the Turkish language, which I originally preregistered as the language whose influence I would trace. Instead, I used Hungarian.\n",
    "\n",
    "### Copied from Phase III:\n",
    "\n",
    "\"I want to see if there is a relationship between the distance a country has from Turkey and the amount of words in common with the Turkish language.\"\n",
    "\n",
    "\"Lastly, I would like to look at a city as each entry, on the x axis is the percentage of words in common with the turkish language spoken in that city, on the y axis will be the distance from Istanbul, and then I will look to see if there is a positive correlation.\"\n",
    "\n",
    "### Modified Analyses:\n",
    "\n",
    "1) Use linear regression to predict if there are more than three words in common with Hungarian langauge. \n",
    "2) Use logistic regression (binary) to predict if a word belongs to one of two languages given how many characters it has in common with Hungarian, and other factors."
   ]
  },
  {
   "cell_type": "markdown",
   "metadata": {},
   "source": [
    "# Data Analysis"
   ]
  },
  {
   "cell_type": "code",
   "execution_count": 2,
   "metadata": {},
   "outputs": [],
   "source": [
    "hung_comparison = pd.read_csv(\"hung_comparison.csv\")\n",
    "hung_comparison['Common Char %'] = hung_comparison['Common Char']/hung_comparison['Length']\n",
    "h_a = pd.read_csv(\"h_a.csv\")\n",
    "h_b = pd.read_csv(\"h_b.csv\")\n",
    "h_r = pd.read_csv(\"h_r.csv\")\n",
    "result = pd.read_csv(\"result.csv\")\n",
    "result['Vowel Percent'] = result['Vowel Ct']/result['Word Len']\n",
    "result['Cons Percent'] = result['Cons Ct']/result['Word Len']\n",
    "result['Cons/Vowel'] = result['Cons Ct']/result['Vowel Ct']"
   ]
  },
  {
   "cell_type": "markdown",
   "metadata": {},
   "source": [
    "## Graphs and Data Exploration"
   ]
  },
  {
   "cell_type": "markdown",
   "metadata": {},
   "source": [
    "### Graphs\n",
    "\n",
    "Below, I wanted to quickly visualize the relationships between words in different the languages I was analyzing. I looked at:\n",
    "    \n",
    "    - Length vs. Vowel Count, I found that Romanian had more vowels per word than Bulgarian did even when the same length word.\n",
    "    \n",
    "    - Length vs. Common Character, I found that Romanian was more likely than Bulgarian to have characters in common with Hungarian.\n",
    "    \n",
    "    - Relationship between Vowel Count and Consonant Count.\n",
    "    \n",
    "Among others I will describe below."
   ]
  },
  {
   "cell_type": "code",
   "execution_count": 3,
   "metadata": {},
   "outputs": [
    {
     "data": {
      "text/plain": [
       "<seaborn.axisgrid.FacetGrid at 0x7ff5a5c37e80>"
      ]
     },
     "execution_count": 3,
     "metadata": {},
     "output_type": "execute_result"
    },
    {
     "data": {
      "image/png": "[encoded data removed]",
      "text/plain": [
       "<Figure size 417.375x360 with 1 Axes>"
      ]
     },
     "metadata": {
      "needs_background": "light"
     },
     "output_type": "display_data"
    }
   ],
   "source": [
    "sns.relplot(x=\"Length\", y=\"Vowel\", hue=\"Language\", s=80, alpha=0.5, data= hung_comparison)\n"
   ]
  },
  {
   "cell_type": "code",
   "execution_count": 4,
   "metadata": {},
   "outputs": [
    {
     "data": {
      "text/plain": [
       "<seaborn.axisgrid.FacetGrid at 0x7ff5a9ae2190>"
      ]
     },
     "execution_count": 4,
     "metadata": {},
     "output_type": "execute_result"
    },
    {
     "data": {
      "image/png": "[encoded data removed]",
      "text/plain": [
       "<Figure size 417.375x360 with 1 Axes>"
      ]
     },
     "metadata": {
      "needs_background": "light"
     },
     "output_type": "display_data"
    }
   ],
   "source": [
    "sns.lmplot(x=\"Length\", y=\"Vowel\", hue=\"Language\", data=hung_comparison)"
   ]
  },
  {
   "cell_type": "code",
   "execution_count": 5,
   "metadata": {},
   "outputs": [
    {
     "data": {
      "text/plain": [
       "<seaborn.axisgrid.FacetGrid at 0x7ff5a99db430>"
      ]
     },
     "execution_count": 5,
     "metadata": {},
     "output_type": "execute_result"
    },
    {
     "data": {
      "image/png": "[encoded data removed]",
      "text/plain": [
       "<Figure size 417.375x360 with 1 Axes>"
      ]
     },
     "metadata": {
      "needs_background": "light"
     },
     "output_type": "display_data"
    }
   ],
   "source": [
    "sns.lmplot(x=\"Length\", y=\"Common Char\", hue=\"Language\", data=hung_comparison)"
   ]
  },
  {
   "cell_type": "code",
   "execution_count": 6,
   "metadata": {},
   "outputs": [
    {
     "data": {
      "text/plain": [
       "<seaborn.axisgrid.FacetGrid at 0x7ff5aa364fd0>"
      ]
     },
     "execution_count": 6,
     "metadata": {},
     "output_type": "execute_result"
    },
    {
     "data": {
      "image/png": "[encoded data removed]",
      "text/plain": [
       "<Figure size 417.375x360 with 1 Axes>"
      ]
     },
     "metadata": {
      "needs_background": "light"
     },
     "output_type": "display_data"
    }
   ],
   "source": [
    "sns.lmplot(x=\"Cons\", y=\"Vowel\", hue=\"Language\", data=hung_comparison)"
   ]
  },
  {
   "cell_type": "code",
   "execution_count": 7,
   "metadata": {},
   "outputs": [
    {
     "data": {
      "text/plain": [
       "<seaborn.axisgrid.FacetGrid at 0x7ff5aa185970>"
      ]
     },
     "execution_count": 7,
     "metadata": {},
     "output_type": "execute_result"
    },
    {
     "data": {
      "image/png": "[encoded data removed]",
      "text/plain": [
       "<Figure size 417.375x360 with 1 Axes>"
      ]
     },
     "metadata": {
      "needs_background": "light"
     },
     "output_type": "display_data"
    }
   ],
   "source": [
    "sns.lmplot(x=\"Cons\", y=\"Cons Percent\", hue=\"Language\", data=hung_comparison)"
   ]
  },
  {
   "cell_type": "code",
   "execution_count": 8,
   "metadata": {},
   "outputs": [
    {
     "data": {
      "text/plain": [
       "<seaborn.axisgrid.FacetGrid at 0x7ff5aa83bd30>"
      ]
     },
     "execution_count": 8,
     "metadata": {},
     "output_type": "execute_result"
    },
    {
     "data": {
      "image/png": "[encoded data removed]",
      "text/plain": [
       "<Figure size 417.375x360 with 1 Axes>"
      ]
     },
     "metadata": {
      "needs_background": "light"
     },
     "output_type": "display_data"
    }
   ],
   "source": [
    "sns.lmplot(x=\"Vowel\", y=\"Vowel Percent\", hue=\"Language\", data=hung_comparison)"
   ]
  },
  {
   "cell_type": "code",
   "execution_count": 9,
   "metadata": {},
   "outputs": [
    {
     "data": {
      "text/plain": [
       "<matplotlib.collections.PathCollection at 0x7ff5aa9f0130>"
      ]
     },
     "execution_count": 9,
     "metadata": {},
     "output_type": "execute_result"
    },
    {
     "data": {
      "image/png": "[encoded data removed]",
      "text/plain": [
       "<Figure size 432x288 with 1 Axes>"
      ]
     },
     "metadata": {
      "needs_background": "light"
     },
     "output_type": "display_data"
    }
   ],
   "source": [
    "plt.scatter(h_a['H Word Length'], h_a['H Consonant Count'])\n",
    "plt.scatter(h_a['A Word Length'], h_a['A Consonant Count'])\n"
   ]
  },
  {
   "cell_type": "code",
   "execution_count": 10,
   "metadata": {},
   "outputs": [
    {
     "data": {
      "text/plain": [
       "<matplotlib.collections.PathCollection at 0x7ff5a9b83880>"
      ]
     },
     "execution_count": 10,
     "metadata": {},
     "output_type": "execute_result"
    },
    {
     "data": {
      "image/png": "[encoded data removed]",
      "text/plain": [
       "<Figure size 432x288 with 1 Axes>"
      ]
     },
     "metadata": {
      "needs_background": "light"
     },
     "output_type": "display_data"
    }
   ],
   "source": [
    "plt.scatter(h_b['H Word Length'], h_b['H Consonant Count'])\n",
    "plt.scatter(h_b['B Word Length'], h_b['B Consonant Count'])\n"
   ]
  },
  {
   "cell_type": "code",
   "execution_count": 11,
   "metadata": {},
   "outputs": [
    {
     "data": {
      "text/plain": [
       "<matplotlib.collections.PathCollection at 0x7ff5aa83b6d0>"
      ]
     },
     "execution_count": 11,
     "metadata": {},
     "output_type": "execute_result"
    },
    {
     "data": {
      "image/png": "[encoded data removed]",
      "text/plain": [
       "<Figure size 432x288 with 1 Axes>"
      ]
     },
     "metadata": {
      "needs_background": "light"
     },
     "output_type": "display_data"
    }
   ],
   "source": [
    "plt.scatter(h_r['R Word Length'], h_r['R Consonant Count'])\n",
    "plt.scatter(h_r['H Word Length'], h_r['H Consonant Count'])\n"
   ]
  },
  {
   "cell_type": "code",
   "execution_count": 12,
   "metadata": {},
   "outputs": [
    {
     "data": {
      "text/plain": [
       "<matplotlib.collections.PathCollection at 0x7ff5a9204190>"
      ]
     },
     "execution_count": 12,
     "metadata": {},
     "output_type": "execute_result"
    },
    {
     "data": {
      "image/png": "[encoded data removed]",
      "text/plain": [
       "<Figure size 432x288 with 1 Axes>"
      ]
     },
     "metadata": {
      "needs_background": "light"
     },
     "output_type": "display_data"
    }
   ],
   "source": [
    "plt.scatter(h_r['R Consonant Count'], h_r['R Vowel Count'])\n",
    "plt.scatter(h_r['H Consonant Count'], h_r['H Vowel Count'])\n"
   ]
  },
  {
   "cell_type": "code",
   "execution_count": 13,
   "metadata": {},
   "outputs": [
    {
     "data": {
      "text/plain": [
       "<seaborn.axisgrid.FacetGrid at 0x7ff5ab274550>"
      ]
     },
     "execution_count": 13,
     "metadata": {},
     "output_type": "execute_result"
    },
    {
     "data": {
      "image/png": "[encoded data removed]",
      "text/plain": [
       "<Figure size 808.25x360 with 2 Axes>"
      ]
     },
     "metadata": {
      "needs_background": "light"
     },
     "output_type": "display_data"
    },
    {
     "data": {
      "image/png": "[encoded data removed]",
      "text/plain": [
       "<Figure size 448.25x360 with 1 Axes>"
      ]
     },
     "metadata": {
      "needs_background": "light"
     },
     "output_type": "display_data"
    },
    {
     "data": {
      "image/png": "[encoded data removed]",
      "text/plain": [
       "<Figure size 448.25x360 with 1 Axes>"
      ]
     },
     "metadata": {
      "needs_background": "light"
     },
     "output_type": "display_data"
    }
   ],
   "source": [
    "\n",
    "\n",
    "hva = result[(result.Language == \"Albanian\") | (result.Language == \"Hungarian\")]\n",
    "hvr = result[(result.Language == \"Romanian\") | (result.Language == \"Hungarian\")]\n",
    "hvb = result[(result.Language == \"Bulgarian\") | (result.Language == \"Hungarian\")]\n",
    "\n",
    "sns.displot(data=hva, x=\"Vowel Percent\", hue=\"Language\", col=\"Language\")\n",
    "\n",
    "sns.relplot(x=\"Cons Ct\", y=\"Cons Percent\", hue=\"Language\", s=80, alpha=0.5, data= hva)\n",
    "\n",
    "sns.relplot(x=\"Cons Ct\", y=\"Cons Percent\", hue=\"Language\", s=90, alpha=0.5, data= hvb)"
   ]
  },
  {
   "cell_type": "code",
   "execution_count": 14,
   "metadata": {},
   "outputs": [
    {
     "name": "stdout",
     "output_type": "stream",
     "text": [
      "1.070883452238061,\n",
      " 1.2950181446007554,\n",
      " 1.2236250342052282\n"
     ]
    },
    {
     "data": {
      "image/png": "[encoded data removed]",
      "text/plain": [
       "<Figure size 432x288 with 1 Axes>"
      ]
     },
     "metadata": {
      "needs_background": "light"
     },
     "output_type": "display_data"
    }
   ],
   "source": [
    "from collections import Counter   \n",
    "h_a['Common Char'] = 0\n",
    "com_char = []\n",
    "for i in range(len(h_a[\"Hungarian\"])):\n",
    "    common_letters = Counter(h_a.Hungarian.iloc[i]) & Counter(h_a.Albanian.iloc[i])\n",
    "    com_char.append(sum(common_letters.values()))\n",
    "h_a['Common Char'] = com_char\n",
    "plt.hist(h_a[\"Common Char\"])\n",
    "\n",
    "com_char2 = []\n",
    "for i in range(len(h_b[\"Hungarian\"])):\n",
    "    common_letters = Counter(h_b.Hungarian.iloc[i]) & Counter(h_b.Bulgarian.iloc[i])\n",
    "    com_char2.append(sum(common_letters.values()))\n",
    "h_b['Common Char'] = com_char2\n",
    "plt.hist(h_b[\"Common Char\"])\n",
    "\n",
    "com_char3 = []\n",
    "for i in range(len(h_r[\"Hungarian\"])):\n",
    "    common_letters = Counter(h_r.Hungarian.iloc[i]) & Counter(h_r.Romanian.iloc[i])\n",
    "    com_char3.append(sum(common_letters.values()))   \n",
    "h_r['Common Char'] = com_char3\n",
    "plt.hist(h_r[\"Common Char\"])\n",
    "\n",
    "\n",
    "print('{},\\n {},\\n {}'.format(h_a['Common Char'].std(),\n",
    "h_b['Common Char'].std(),\n",
    "h_r['Common Char'].std(),\n",
    "h_a['Common Char'].mean(),\n",
    "h_a['Common Char'].median(),\n",
    "h_b['Common Char'].mean()))\n"
   ]
  },
  {
   "cell_type": "markdown",
   "metadata": {},
   "source": [
    "## Linear Models"
   ]
  },
  {
   "cell_type": "code",
   "execution_count": 15,
   "metadata": {},
   "outputs": [],
   "source": [
    "merged_clean = pd.read_csv(\"merged_clean.csv\")"
   ]
  },
  {
   "cell_type": "code",
   "execution_count": 16,
   "metadata": {},
   "outputs": [],
   "source": [
    "h_a = pd.DataFrame(\n",
    "{\"Parameter\" : merged_clean[\"Parameter\"].copy(),\n",
    " \"Hungarian\" : merged_clean[\"Hungarian\"].copy(),\n",
    " \"H Word Length\" : 0,\n",
    " \"H Vowel Count\" : 0,\n",
    " \"H Consonant Count\" : 0,\n",
    " \"Albanian\" : merged_clean[\"Albanian\"].copy(),\n",
    " \"A Word Length\" : 0,\n",
    " \"A Vowel Count\" : 0,\n",
    " \"A Consonant Count\" : 0,\n",
    "}) \n",
    "\n",
    "h_a = h_a.drop_duplicates()\n",
    "\n",
    "h_b = pd.DataFrame(\n",
    "{\"Parameter\" : merged_clean[\"Parameter\"].copy(),\n",
    " \"Hungarian\" : merged_clean[\"Hungarian\"].copy(),\n",
    " \"H Word Length\" : 0,\n",
    " \"H Vowel Count\" : 0,\n",
    " \"H Consonant Count\" : 0,\n",
    " \"Bulgarian\" : merged_clean[\"Bulgarian\"].copy(),\n",
    " \"B Word Length\" : 0,\n",
    " \"B Vowel Count\" : 0,\n",
    " \"B Consonant Count\" : 0,\n",
    "}) \n",
    "\n",
    "\n",
    "h_b = h_b.drop_duplicates()\n",
    "\n",
    "h_r = pd.DataFrame(\n",
    "{\"Parameter\" : merged_clean[\"Parameter\"].copy(),\n",
    " \"Hungarian\" : merged_clean[\"Hungarian\"].copy(),\n",
    " \"H Word Length\" : 0,\n",
    " \"H Vowel Count\" : 0,\n",
    " \"H Consonant Count\" : 0,\n",
    " \"Romanian\" : merged_clean[\"Romanian\"].copy(),\n",
    " \"R Word Length\" : 0,\n",
    " \"R Vowel Count\" : 0,\n",
    " \"R Consonant Count\" : 0,\n",
    "}) \n",
    "\n",
    "h_r = h_r.drop_duplicates()\n",
    "\n",
    "temp = 0\n",
    "array_h = []\n",
    "for i in h_a[\"Hungarian\"]:\n",
    "    temp = len(i)\n",
    "    array_h.append(temp)\n",
    "    \n",
    "h_a['H Word Length'] = array_h\n",
    "temp2 = 0\n",
    "array_a = []\n",
    "for i in h_a[\"Albanian\"]:\n",
    "    temp2 = len(i)\n",
    "    array_a.append(temp2)\n",
    "h_a['A Word Length'] = array_a\n",
    "\n",
    "temp3 = 0\n",
    "array_hb = []\n",
    "for i in h_b[\"Hungarian\"]:\n",
    "    temp3 = len(i)\n",
    "    array_hb.append(temp3)\n",
    "\n",
    "h_b['H Word Length'] = array_hb\n",
    "\n",
    "temp4 = 0\n",
    "array_b = []\n",
    "for i in h_b[\"Bulgarian\"]:\n",
    "    temp4 = len(i)\n",
    "    array_b.append(temp4)\n",
    "    \n",
    "h_b['B Word Length'] = array_b\n",
    "\n",
    "temp5 = 0\n",
    "array_hr = []\n",
    "for i in h_r[\"Hungarian\"]:\n",
    "    temp5 = len(i)\n",
    "    array_hr.append(temp5)\n",
    "    \n",
    "h_r['H Word Length'] = array_hr\n",
    "\n",
    "temp6 = 0\n",
    "array_r = []\n",
    "for i in h_r[\"Romanian\"]:\n",
    "    temp6 = len(i)\n",
    "    array_r.append(temp6)\n",
    "    \n",
    "h_r['R Word Length'] = array_r\n",
    "\n",
    "def count_vowel(str):\n",
    "    \"\"\" takes string\"\"\"\n",
    "    count = 0 \n",
    "    vowel = set(\"aeiouyAEIOUY\")\n",
    "    for i in str:\n",
    "        if i in vowel:\n",
    "            count += 1\n",
    "    return count\n",
    "            \n",
    "def col_it(df, col1, col2, function):\n",
    "    \"\"\" takes dataframe, column to iterate over, column to append, and chosen functio \"\"\"\n",
    "    temp = 0\n",
    "    array = []\n",
    "    for i in df[col1]:\n",
    "        temp = function(i)\n",
    "        array.append(temp)\n",
    "    df[col2] = array        "
   ]
  },
  {
   "cell_type": "code",
   "execution_count": 17,
   "metadata": {},
   "outputs": [],
   "source": [
    "col_it(h_a, \"Hungarian\", \"H Vowel Count\", count_vowel)\n",
    "col_it(h_a, \"Albanian\", \"A Vowel Count\", count_vowel)\n",
    "col_it(h_b, \"Hungarian\", \"H Vowel Count\", count_vowel)\n",
    "col_it(h_b, \"Bulgarian\", \"B Vowel Count\", count_vowel)\n",
    "col_it(h_r, \"Hungarian\", \"H Vowel Count\", count_vowel)\n",
    "col_it(h_r, \"Romanian\", \"R Vowel Count\", count_vowel)\n",
    "\n",
    "def count_cons(str):\n",
    "    \"\"\" takes string\"\"\"\n",
    "    count = 0 \n",
    "    vowel = set(\"bcdfghjklmnpqrstvwxzBCDFGHJKLMNPQRSTVWXZ\")\n",
    "    for i in str:\n",
    "        if i in vowel:\n",
    "            count += 1\n",
    "    return count\n",
    "\n",
    "col_it(h_a, \"Hungarian\", \"H Consonant Count\", count_cons)\n",
    "col_it(h_a, \"Albanian\", \"A Consonant Count\", count_cons)\n",
    "col_it(h_b, \"Hungarian\", \"H Consonant Count\", count_cons)\n",
    "col_it(h_b, \"Bulgarian\", \"B Consonant Count\", count_cons)\n",
    "col_it(h_r, \"Hungarian\", \"H Consonant Count\", count_cons)\n",
    "col_it(h_r, \"Romanian\", \"R Consonant Count\", count_cons)\n",
    "\n",
    "from sklearn.linear_model import LinearRegression\n",
    "import seaborn as sns\n",
    "from sklearn.cluster import KMeans\n",
    "\n",
    "h_a.to_csv(r'/Users/adelinabranescu/Documents/Cornell/Fall_20/Data_2950/Final_Project/h_a.csv', index = True )\n",
    "h_b.to_csv(r'/Users/adelinabranescu/Documents/Cornell/Fall_20/Data_2950/Final_Project/h_b.csv', index = True )\n",
    "h_r.to_csv(r'/Users/adelinabranescu/Documents/Cornell/Fall_20/Data_2950/Final_Project/h_r.csv', index = True )\n",
    "\n",
    "\n",
    "h_temp = pd.DataFrame({\n",
    "\"Word\" : merged_clean['Hungarian'],\n",
    "\"Language\" : \"Hungarian\"})\n",
    "\n",
    "h_temp = h_temp.drop_duplicates()\n",
    "\n",
    "a_temp = pd.DataFrame({\n",
    "\"Word\" : merged_clean['Albanian'],\n",
    "\"Language\" : \"Albanian\"})\n",
    "\n",
    "b_temp = pd.DataFrame({\n",
    "\"Word\" : merged_clean['Bulgarian'],\n",
    "\"Language\" : \"Bulgarian\"})\n",
    "\n",
    "r_temp = pd.DataFrame({\n",
    "\"Word\" : merged_clean['Romanian'],\n",
    "\"Language\" : \"Romanian\"})\n",
    "\n",
    "a_temp = a_temp.drop_duplicates()\n",
    "b_temp = b_temp.drop_duplicates()\n",
    "r_temp = r_temp.drop_duplicates()\n",
    "\n",
    "result = h_temp.append(a_temp, sort=False)\n",
    "result = result.append(b_temp, sort=False)\n",
    "result = result.append(r_temp, sort=False)\n",
    "\n",
    "result['Word Len'] = 0\n",
    "result['Vowel Ct'] = 0\n",
    "result['Cons Ct'] = 0\n",
    "\n",
    "col_it(result, \"Word\", \"Vowel Ct\", count_vowel)\n",
    "col_it(result, \"Word\", \"Cons Ct\", count_cons)\n",
    "col_it(result, \"Word\", \"Word Len\", len)\n",
    "\n",
    "result['Vowel Percent'] = result['Vowel Ct']/result['Word Len']\n",
    "result['Cons Percent'] = result['Cons Ct']/result['Word Len']\n",
    "result['Cons/Vowel'] = result['Cons Ct']/result['Vowel Ct']\n",
    "\n",
    "result.to_csv(r'/Users/adelinabranescu/Documents/Cornell/Fall_20/Data_2950/Final_Project/result.csv', index = True )\n",
    "\n",
    "hvr = result[(result.Language == \"Romanian\") | (result.Language == \"Hungarian\")]\n",
    "hvb = result[(result.Language == \"Bulgarian\") | (result.Language == \"Hungarian\")]"
   ]
  },
  {
   "cell_type": "markdown",
   "metadata": {},
   "source": [
    "[Common Character Counter Source ](https://stackoverflow.com/questions/44269409/count-common-characters-in-strings-python#:~:text=If%20you%20want%20to%20maintain,Counter%20instead%20of%20set%20.&text=Analysis%2C%202%20is%20the%20correct,of%20either%20sets%20unique%20values.&text=therefore%20the%20minimum%20count%20is%204.)\n"
   ]
  },
  {
   "cell_type": "code",
   "execution_count": 18,
   "metadata": {},
   "outputs": [],
   "source": [
    "from collections import Counter   \n",
    "h_a['Common Char'] = 0\n",
    "com_char = []\n",
    "for i in range(len(h_a[\"Hungarian\"])):\n",
    "    common_letters = Counter(h_a.Hungarian.iloc[i]) & Counter(h_a.Albanian.iloc[i])\n",
    "    com_char.append(sum(common_letters.values()))\n",
    "h_a['Common Char'] = com_char\n",
    "\n",
    "\n",
    "com_char2 = []\n",
    "\n",
    "for i in range(len(h_b[\"Hungarian\"])):\n",
    "    common_letters = Counter(h_b.Hungarian.iloc[i]) & Counter(h_b.Bulgarian.iloc[i])\n",
    "    com_char2.append(sum(common_letters.values()))\n",
    "\n",
    "h_b['Common Char'] = com_char2\n",
    "\n",
    "com_char3 = []\n",
    "\n",
    "\n",
    "for i in range(len(h_r[\"Hungarian\"])):\n",
    "    common_letters = Counter(h_r.Hungarian.iloc[i]) & Counter(h_r.Romanian.iloc[i])\n",
    "    com_char3.append(sum(common_letters.values()))\n",
    "    \n",
    "h_r['Common Char'] = com_char3\n",
    "\n",
    "r_stack = h_r[['Romanian', 'R Word Length' , 'R Vowel Count' , 'R Consonant Count' , 'Common Char']].copy()\n",
    "\n",
    "b_stack = h_b[['Bulgarian', 'B Word Length' , 'B Vowel Count' , 'B Consonant Count' , 'Common Char']].copy()\n",
    "\n",
    "a_stack = h_a[['Albanian', 'A Word Length' , 'A Vowel Count' , 'A Consonant Count' , 'Common Char']].copy()\n",
    "\n",
    "r_stack['Language'] = 'romanian'\n",
    "\n",
    "a_stack['Language'] = 'albanian'\n",
    "\n",
    "b_stack['Language'] = 'bulgarian'\n",
    "\n",
    "a_stack = a_stack.rename(columns = {'Albanian':'Word', 'A Word Length':'Length', 'A Vowel Count': 'Vowel', 'A Consonant Count': 'Cons'})\n",
    "\n",
    "b_stack = b_stack.rename(columns = {'Bulgarian':'Word', 'B Word Length':'Length', 'B Vowel Count': 'Vowel', 'B Consonant Count': 'Cons'})\n",
    "\n",
    "r_stack = r_stack.rename(columns = {'Romanian':'Word', 'R Word Length':'Length', 'R Vowel Count': 'Vowel', 'R Consonant Count': 'Cons'})\n",
    "\n",
    "words = []\n",
    "length = []\n",
    "vowel = []\n",
    "cons = []\n",
    "common = []\n",
    "lang = []\n",
    "\n",
    "for i in b_stack['Word']:\n",
    "    words.append(i)\n",
    "\n",
    "for i in r_stack['Word']:\n",
    "    words.append(i)\n",
    "\n",
    "for i in a_stack['Word']:\n",
    "    words.append(i)\n",
    "    \n",
    "for i in a_stack['Length']:\n",
    "    length.append(i)\n",
    "    \n",
    "for i in b_stack['Length']:\n",
    "    length.append(i)\n",
    "    \n",
    "for i in r_stack['Length']:\n",
    "    length.append(i)\n",
    "\n",
    "for i in a_stack['Vowel']:\n",
    "    vowel.append(i)\n",
    "    \n",
    "for i in b_stack['Vowel']:\n",
    "    vowel.append(i)\n",
    "    \n",
    "for i in r_stack['Vowel']:\n",
    "    vowel.append(i)\n",
    "\n",
    "for i in a_stack['Cons']:\n",
    "    cons.append(i)\n",
    "    \n",
    "for i in b_stack['Cons']:\n",
    "    cons.append(i)\n",
    "    \n",
    "for i in r_stack['Cons']:\n",
    "    cons.append(i)\n",
    "    \n",
    "for i in a_stack['Language']:\n",
    "    lang.append(i)\n",
    "    \n",
    "for i in b_stack['Language']:\n",
    "    lang.append(i)\n",
    "    \n",
    "for i in r_stack['Language']:\n",
    "    lang.append(i)\n",
    "    \n",
    "for i in a_stack['Common Char']:\n",
    "    common.append(i)\n",
    "    \n",
    "for i in b_stack['Common Char']:\n",
    "    common.append(i)    \n",
    "    \n",
    "for i in r_stack['Common Char']:\n",
    "    common.append(i)\n",
    "    \n",
    "    \n",
    "hung_comparison = pd.DataFrame( {'Word': words, 'Length': length, 'Vowel': vowel, 'Cons': cons, 'Common Char': common, 'Language': lang })\n",
    "hung_comparison['Cons Percent'] = hung_comparison['Cons']/hung_comparison['Length']\n",
    "three_more = hung_comparison[hung_comparison['Common Char'] >= 3].copy()\n",
    "three_less = hung_comparison[hung_comparison['Common Char'] < 3].copy()\n",
    "\n",
    "from sklearn.linear_model import LinearRegression\n",
    "from sklearn.cluster import KMeans\n",
    "\n"
   ]
  },
  {
   "cell_type": "code",
   "execution_count": 19,
   "metadata": {},
   "outputs": [
    {
     "name": "stdout",
     "output_type": "stream",
     "text": [
      "Length\n",
      "slope: [[0.24153038]]\n",
      "R-squared: 0.1630538690572243\n",
      "\n",
      "Vowel\n",
      "slope: [[0.42066308]]\n",
      "R-squared: 0.12083786419211584\n",
      "\n",
      "Cons Percent\n",
      "slope: [[-0.21674405]]\n",
      "R-squared: 0.00041089905937907734\n",
      "\n",
      "Language\n",
      "slope: [[0.1245633]]\n",
      "R-squared: 0.00677923850976303\n",
      "\n"
     ]
    }
   ],
   "source": [
    "lang_map = {\"albanian\": 1, \"bulgarian\": 2, \"romanian\": 3}\n",
    "hung_comparison['Language'] = hung_comparison['Language'].map(lang_map)\n",
    "\n",
    "categories = ['Length', 'Vowel', 'Cons Percent','Language']\n",
    "\n",
    "for i in categories: \n",
    "    cat_df = pd.DataFrame({i: hung_comparison[i], 'Common' : hung_comparison['Common Char']})\n",
    "    cat_model = LinearRegression().fit(cat_df[[i]], cat_df[['Common']])\n",
    "    predict_cat = cat_model.predict(cat_df[[i]])\n",
    "    print(i)\n",
    "    print('slope: {}'.format(cat_model.coef_))\n",
    "    print('R-squared: {}'.format(cat_model.score(cat_df[[i]], cat_df[['Common']])))\n",
    "    print('')"
   ]
  },
  {
   "cell_type": "code",
   "execution_count": 20,
   "metadata": {},
   "outputs": [
    {
     "name": "stdout",
     "output_type": "stream",
     "text": [
      "slope: [[-0.30470361  0.57519607  0.52932925 -0.02115352]]\n",
      "R-squared: 0.16359257960835227\n"
     ]
    }
   ],
   "source": [
    "categories = pd.DataFrame({'Length' : hung_comparison['Length'], 'Vowel' : hung_comparison['Vowel'], 'Cons' : hung_comparison['Cons'], 'Country Distance' : hung_comparison['Language'] })\n",
    "common = pd.DataFrame({'Common' : hung_comparison['Common Char']})\n",
    "model = LinearRegression().fit(categories, common)\n",
    "common_predict = model.predict(categories)\n",
    "\n",
    "\n",
    "print('slope: {}'.format(model.coef_))\n",
    "print('R-squared: {}'.format(model.score(categories, common)))\n"
   ]
  },
  {
   "cell_type": "code",
   "execution_count": 21,
   "metadata": {},
   "outputs": [
    {
     "name": "stdout",
     "output_type": "stream",
     "text": [
      "slope: 0.2430207\n"
     ]
    }
   ],
   "source": [
    "hung_comparison['Vowel Percent'] = hung_comparison['Vowel']/hung_comparison['Length']\n",
    "\n",
    "def more_three(int): \n",
    "    if int >= 3:\n",
    "        return 'Yes'\n",
    "    else:\n",
    "        return 'No'\n",
    "\n",
    "array = []\n",
    "for i in hung_comparison['Common Char']:\n",
    "    array.append(more_three(i))\n",
    "\n",
    "hung_comparison['More Three'] = array\n",
    "\n",
    "hung_comparison['Language'] = [float(i) for i in hung_comparison['Language']]\n",
    "\n",
    "from sklearn.model_selection import train_test_split\n",
    "\n",
    "from sklearn.linear_model import LogisticRegression\n",
    "import numpy\n",
    "\n",
    "y = numpy.ravel(hung_comparison[['More Three']])\n",
    "\n",
    "model = LogisticRegression().fit(hung_comparison[['Language']], y)\n",
    "\n",
    "predict = model.predict(hung_comparison[['Language']])\n",
    "\n",
    "print('slope: {:.7f}'.format(float(model.coef_)))\n"
   ]
  },
  {
   "cell_type": "code",
   "execution_count": 22,
   "metadata": {},
   "outputs": [],
   "source": [
    "X_train, X_test, y_train, y_test = train_test_split(hung_comparison[['Language']], hung_comparison[['More Three']], test_size=0.20, random_state=15)\n"
   ]
  },
  {
   "cell_type": "code",
   "execution_count": 23,
   "metadata": {},
   "outputs": [
    {
     "name": "stdout",
     "output_type": "stream",
     "text": [
      "percent accurate: 82.4%\n"
     ]
    }
   ],
   "source": [
    "new_df = pd.DataFrame({'Language': X_test['Language']})\n",
    "predict_one = model.predict(new_df[['Language']])\n",
    "\n",
    "predict_one = numpy.ravel(predict_one)\n",
    "y_test = numpy.ravel(y_test)\n",
    "\n",
    "accurate = 0\n",
    "\n",
    "for i in range(len(predict_one)):\n",
    "    if predict_one[i] == y_test[i]:\n",
    "        accurate += 1\n",
    "\n",
    "print('percent accurate: {:.1f}%'.format((accurate/len(y_test))*100))"
   ]
  },
  {
   "cell_type": "code",
   "execution_count": 24,
   "metadata": {},
   "outputs": [
    {
     "name": "stdout",
     "output_type": "stream",
     "text": [
      "percent accurate: 83.2%\n"
     ]
    }
   ],
   "source": [
    "train_df = pd.DataFrame({'Language': X_train['Language']})\n",
    "\n",
    "predict_two = model.predict(train_df[['Language']])\n",
    "\n",
    "predict_two = numpy.ravel(predict_two)\n",
    "y_train = numpy.ravel(y_train)\n",
    "\n",
    "accurate2 = 0\n",
    "\n",
    "for i in range(len(predict_two)):\n",
    "    if predict_two[i] == y_train[i]:\n",
    "        accurate2 += 1\n",
    "\n",
    "print('percent accurate: {:.1f}%'.format((accurate2/len(y_train))*100))"
   ]
  },
  {
   "cell_type": "markdown",
   "metadata": {},
   "source": [
    "## Logistic Regression"
   ]
  },
  {
   "cell_type": "code",
   "execution_count": 25,
   "metadata": {},
   "outputs": [],
   "source": [
    "hung_comparison = pd.read_csv(\"hung_comparison.csv\")\n",
    "alb = hung_comparison[hung_comparison['Language'] == 1].copy()\n",
    "bulg = hung_comparison[hung_comparison['Language'] == 2].copy()\n",
    "rom = hung_comparison[hung_comparison['Language'] == 3].copy()\n",
    "alb = alb.drop_duplicates()\n",
    "bulg = bulg.drop_duplicates()\n",
    "rom = rom.drop_duplicates()\n",
    "alb_bulg = alb.append(bulg)\n",
    "alb_rom = alb.append(rom)\n",
    "bulg_rom = bulg.append(rom)"
   ]
  },
  {
   "cell_type": "code",
   "execution_count": 26,
   "metadata": {},
   "outputs": [
    {
     "data": {
      "text/html": [
       "<div>\n",
       "<style scoped>\n",
       "    .dataframe tbody tr th:only-of-type {\n",
       "        vertical-align: middle;\n",
       "    }\n",
       "\n",
       "    .dataframe tbody tr th {\n",
       "        vertical-align: top;\n",
       "    }\n",
       "\n",
       "    .dataframe thead th {\n",
       "        text-align: right;\n",
       "    }\n",
       "</style>\n",
       "<table border=\"1\" class=\"dataframe\">\n",
       "  <thead>\n",
       "    <tr style=\"text-align: right;\">\n",
       "      <th></th>\n",
       "      <th>Unnamed: 0</th>\n",
       "      <th>Word</th>\n",
       "      <th>Length</th>\n",
       "      <th>Vowel</th>\n",
       "      <th>Cons</th>\n",
       "      <th>Language</th>\n",
       "      <th>Common Char</th>\n",
       "      <th>Cons Percent</th>\n",
       "      <th>Vowel Percent</th>\n",
       "      <th>More Three</th>\n",
       "    </tr>\n",
       "  </thead>\n",
       "  <tbody>\n",
       "    <tr>\n",
       "      <th>0</th>\n",
       "      <td>0</td>\n",
       "      <td>bot</td>\n",
       "      <td>3</td>\n",
       "      <td>1</td>\n",
       "      <td>2</td>\n",
       "      <td>1.0</td>\n",
       "      <td>0</td>\n",
       "      <td>0.666667</td>\n",
       "      <td>0.333333</td>\n",
       "      <td>No</td>\n",
       "    </tr>\n",
       "    <tr>\n",
       "      <th>1</th>\n",
       "      <td>1</td>\n",
       "      <td>e</td>\n",
       "      <td>1</td>\n",
       "      <td>1</td>\n",
       "      <td>0</td>\n",
       "      <td>1.0</td>\n",
       "      <td>0</td>\n",
       "      <td>0.000000</td>\n",
       "      <td>1.000000</td>\n",
       "      <td>No</td>\n",
       "    </tr>\n",
       "    <tr>\n",
       "      <th>2</th>\n",
       "      <td>2</td>\n",
       "      <td>rokulialem</td>\n",
       "      <td>10</td>\n",
       "      <td>5</td>\n",
       "      <td>5</td>\n",
       "      <td>1.0</td>\n",
       "      <td>3</td>\n",
       "      <td>0.500000</td>\n",
       "      <td>0.500000</td>\n",
       "      <td>Yes</td>\n",
       "    </tr>\n",
       "    <tr>\n",
       "      <th>3</th>\n",
       "      <td>3</td>\n",
       "      <td>dua</td>\n",
       "      <td>3</td>\n",
       "      <td>2</td>\n",
       "      <td>1</td>\n",
       "      <td>1.0</td>\n",
       "      <td>1</td>\n",
       "      <td>0.333333</td>\n",
       "      <td>0.666667</td>\n",
       "      <td>No</td>\n",
       "    </tr>\n",
       "    <tr>\n",
       "      <th>4</th>\n",
       "      <td>4</td>\n",
       "      <td>tok</td>\n",
       "      <td>3</td>\n",
       "      <td>1</td>\n",
       "      <td>2</td>\n",
       "      <td>1.0</td>\n",
       "      <td>1</td>\n",
       "      <td>0.666667</td>\n",
       "      <td>0.333333</td>\n",
       "      <td>No</td>\n",
       "    </tr>\n",
       "    <tr>\n",
       "      <th>...</th>\n",
       "      <td>...</td>\n",
       "      <td>...</td>\n",
       "      <td>...</td>\n",
       "      <td>...</td>\n",
       "      <td>...</td>\n",
       "      <td>...</td>\n",
       "      <td>...</td>\n",
       "      <td>...</td>\n",
       "      <td>...</td>\n",
       "      <td>...</td>\n",
       "    </tr>\n",
       "    <tr>\n",
       "      <th>5222</th>\n",
       "      <td>5222</td>\n",
       "      <td>binecuvinta</td>\n",
       "      <td>11</td>\n",
       "      <td>5</td>\n",
       "      <td>6</td>\n",
       "      <td>3.0</td>\n",
       "      <td>2</td>\n",
       "      <td>0.545455</td>\n",
       "      <td>0.454545</td>\n",
       "      <td>No</td>\n",
       "    </tr>\n",
       "    <tr>\n",
       "      <th>5223</th>\n",
       "      <td>5223</td>\n",
       "      <td>blagoslovi</td>\n",
       "      <td>10</td>\n",
       "      <td>4</td>\n",
       "      <td>6</td>\n",
       "      <td>3.0</td>\n",
       "      <td>3</td>\n",
       "      <td>0.600000</td>\n",
       "      <td>0.400000</td>\n",
       "      <td>Yes</td>\n",
       "    </tr>\n",
       "    <tr>\n",
       "      <th>5224</th>\n",
       "      <td>5224</td>\n",
       "      <td>blestema</td>\n",
       "      <td>8</td>\n",
       "      <td>3</td>\n",
       "      <td>5</td>\n",
       "      <td>3.0</td>\n",
       "      <td>4</td>\n",
       "      <td>0.625000</td>\n",
       "      <td>0.375000</td>\n",
       "      <td>Yes</td>\n",
       "    </tr>\n",
       "    <tr>\n",
       "      <th>5225</th>\n",
       "      <td>5225</td>\n",
       "      <td>postiajuna</td>\n",
       "      <td>10</td>\n",
       "      <td>5</td>\n",
       "      <td>5</td>\n",
       "      <td>3.0</td>\n",
       "      <td>2</td>\n",
       "      <td>0.500000</td>\n",
       "      <td>0.500000</td>\n",
       "      <td>No</td>\n",
       "    </tr>\n",
       "    <tr>\n",
       "      <th>5226</th>\n",
       "      <td>5226</td>\n",
       "      <td>cer</td>\n",
       "      <td>3</td>\n",
       "      <td>1</td>\n",
       "      <td>2</td>\n",
       "      <td>3.0</td>\n",
       "      <td>1</td>\n",
       "      <td>0.666667</td>\n",
       "      <td>0.333333</td>\n",
       "      <td>No</td>\n",
       "    </tr>\n",
       "  </tbody>\n",
       "</table>\n",
       "<p>5227 rows × 10 columns</p>\n",
       "</div>"
      ],
      "text/plain": [
       "      Unnamed: 0         Word  Length  Vowel  Cons  Language  Common Char  \\\n",
       "0              0          bot       3      1     2       1.0            0   \n",
       "1              1            e       1      1     0       1.0            0   \n",
       "2              2   rokulialem      10      5     5       1.0            3   \n",
       "3              3          dua       3      2     1       1.0            1   \n",
       "4              4          tok       3      1     2       1.0            1   \n",
       "...          ...          ...     ...    ...   ...       ...          ...   \n",
       "5222        5222  binecuvinta      11      5     6       3.0            2   \n",
       "5223        5223   blagoslovi      10      4     6       3.0            3   \n",
       "5224        5224     blestema       8      3     5       3.0            4   \n",
       "5225        5225   postiajuna      10      5     5       3.0            2   \n",
       "5226        5226          cer       3      1     2       3.0            1   \n",
       "\n",
       "      Cons Percent  Vowel Percent More Three  \n",
       "0         0.666667       0.333333         No  \n",
       "1         0.000000       1.000000         No  \n",
       "2         0.500000       0.500000        Yes  \n",
       "3         0.333333       0.666667         No  \n",
       "4         0.666667       0.333333         No  \n",
       "...            ...            ...        ...  \n",
       "5222      0.545455       0.454545         No  \n",
       "5223      0.600000       0.400000        Yes  \n",
       "5224      0.625000       0.375000        Yes  \n",
       "5225      0.500000       0.500000         No  \n",
       "5226      0.666667       0.333333         No  \n",
       "\n",
       "[5227 rows x 10 columns]"
      ]
     },
     "execution_count": 26,
     "metadata": {},
     "output_type": "execute_result"
    }
   ],
   "source": [
    "hung_comparison"
   ]
  },
  {
   "cell_type": "code",
   "execution_count": 27,
   "metadata": {},
   "outputs": [],
   "source": [
    "def change_lang(float):\n",
    "    if float == 3:\n",
    "        return 'Romanian'\n",
    "    elif float == 2:\n",
    "        return 'Bulgarian'\n",
    "    else:\n",
    "        return 'Albanian'\n",
    "\n",
    "ab = []\n",
    "for i in alb_bulg['Language']:\n",
    "    ab.append(change_lang(i))\n",
    "\n",
    "alb_bulg['Language Name'] = ab\n",
    "\n",
    "\n",
    "alb_bulg['Common Char'] = [float(i) for i in alb_bulg['Common Char']]\n",
    "\n",
    "ar = []\n",
    "for i in alb_rom['Language']:\n",
    "    ar.append(change_lang(i))\n",
    "\n",
    "alb_rom['Language Name'] = ar\n",
    "\n",
    "br = []\n",
    "for i in bulg_rom['Language']:\n",
    "    br.append(change_lang(i))\n",
    "\n",
    "bulg_rom['Language Name'] = br\n",
    "\n",
    "alb_rom['Common Char'] = [float(i) for i in alb_rom['Common Char']]\n",
    "bulg_rom['Common Char'] = [float(i) for i in bulg_rom['Common Char']]"
   ]
  },
  {
   "cell_type": "code",
   "execution_count": 28,
   "metadata": {},
   "outputs": [],
   "source": [
    "alb_rom['Common Char %'] = alb_rom['Common Char']/alb_rom['Length']\n",
    "alb_bulg['Common Char %'] = alb_bulg['Common Char']/alb_bulg['Length']\n",
    "bulg_rom['Common Char %'] = bulg_rom['Common Char']/bulg_rom['Length']"
   ]
  },
  {
   "cell_type": "markdown",
   "metadata": {},
   "source": [
    "## Bulgarian v Romanian"
   ]
  },
  {
   "cell_type": "code",
   "execution_count": 29,
   "metadata": {},
   "outputs": [
    {
     "name": "stdout",
     "output_type": "stream",
     "text": [
      "Length\n",
      "slope: -0.1399016\n",
      "percent accurate: 56.4%\n",
      "percent accurate: 55.6%\n",
      "\n",
      "Cons\n",
      "slope: -0.3964938\n",
      "percent accurate: 58.1%\n",
      "percent accurate: 59.3%\n",
      "\n",
      "Vowel\n",
      "slope: 0.0762240\n",
      "percent accurate: 53.6%\n",
      "percent accurate: 55.9%\n",
      "\n",
      "Vowel Percent\n",
      "slope: 4.9531978\n",
      "percent accurate: 63.5%\n",
      "percent accurate: 66.0%\n",
      "\n",
      "Common Char\n",
      "slope: -0.0999854\n",
      "percent accurate: 53.5%\n",
      "percent accurate: 56.0%\n",
      "\n",
      "Common Char %\n",
      "slope: -0.1699031\n",
      "percent accurate: 53.5%\n",
      "percent accurate: 56.0%\n",
      "\n"
     ]
    }
   ],
   "source": [
    "for i in ['Length', 'Cons', 'Vowel', 'Vowel Percent', 'Common Char', 'Common Char %']:\n",
    "    y = np.ravel(bulg_rom[['Language Name']])\n",
    "    model = LogisticRegression().fit(bulg_rom[[i]], y)\n",
    "    predict = model.predict(bulg_rom[[i]])\n",
    "    print(i)\n",
    "    print('slope: {:.7f}'.format(float(model.coef_)))\n",
    "    X_train, X_test, y_train, y_test = train_test_split(bulg_rom[[i]], bulg_rom[['Language Name']], test_size=0.20, random_state=15)\n",
    "    train_df = pd.DataFrame({i: X_train[i]})\n",
    "    predict_two = model.predict(train_df[[i]])\n",
    "    predict_two = np.ravel(predict_two)\n",
    "    y_train = np.ravel(y_train)\n",
    "    accurate2 = 0\n",
    "    for j in range(len(predict_two)):\n",
    "        if predict_two[j] == y_train[j]:\n",
    "            accurate2 += 1\n",
    "    print('percent accurate: {:.1f}%'.format((accurate2/len(y_train))*100)) \n",
    "    ab_test = pd.DataFrame({i: X_test[i]})\n",
    "    predict_ab1 = model.predict(ab_test[[i]])\n",
    "    predict_ab1 = np.ravel(predict_ab1)\n",
    "    y_test = np.ravel(y_test)\n",
    "    accurate = 0\n",
    "    for j in range(len(predict_ab1)):\n",
    "        if predict_ab1[j] == y_test[j]:\n",
    "            accurate += 1\n",
    "    print('percent accurate: {:.1f}%'.format((accurate/len(y_test))*100))\n",
    "    print()"
   ]
  },
  {
   "cell_type": "markdown",
   "metadata": {},
   "source": [
    "## Albanian v Romanian"
   ]
  },
  {
   "cell_type": "code",
   "execution_count": 30,
   "metadata": {},
   "outputs": [
    {
     "name": "stdout",
     "output_type": "stream",
     "text": [
      "Length\n",
      "slope: 0.3754929\n",
      "percent accurate: 62.1%\n",
      "percent accurate: 62.9%\n",
      "\n",
      "Cons\n",
      "slope: 0.2035049\n",
      "percent accurate: 54.7%\n",
      "percent accurate: 54.2%\n",
      "\n",
      "Vowel\n",
      "slope: 0.9983281\n",
      "percent accurate: 67.5%\n",
      "percent accurate: 67.8%\n",
      "\n",
      "Vowel Percent\n",
      "slope: 4.4113155\n",
      "percent accurate: 62.0%\n",
      "percent accurate: 62.7%\n",
      "\n",
      "Common Char\n",
      "slope: 0.1816676\n",
      "percent accurate: 54.1%\n",
      "percent accurate: 54.4%\n",
      "\n",
      "Common Char %\n",
      "slope: -0.2377524\n",
      "percent accurate: 52.2%\n",
      "percent accurate: 55.1%\n",
      "\n"
     ]
    }
   ],
   "source": [
    "for i in ['Length', 'Cons', 'Vowel', 'Vowel Percent', 'Common Char', 'Common Char %']:\n",
    "    y = np.ravel(alb_rom[['Language Name']])\n",
    "    model = LogisticRegression().fit(alb_rom[[i]], y)\n",
    "    predict = model.predict(alb_rom[[i]])\n",
    "    print(i)\n",
    "    print('slope: {:.7f}'.format(float(model.coef_)))\n",
    "    X_train, X_test, y_train, y_test = train_test_split(alb_rom[[i]], alb_rom[['Language Name']], test_size=0.20, random_state=15)\n",
    "    train_df = pd.DataFrame({i: X_train[i]})\n",
    "    predict_two = model.predict(train_df[[i]])\n",
    "    predict_two = np.ravel(predict_two)\n",
    "    y_train = np.ravel(y_train)\n",
    "    accurate2 = 0\n",
    "    for j in range(len(predict_two)):\n",
    "        if predict_two[j] == y_train[j]:\n",
    "            accurate2 += 1\n",
    "    print('percent accurate: {:.1f}%'.format((accurate2/len(y_train))*100)) \n",
    "    ab_test = pd.DataFrame({i: X_test[i]})\n",
    "    predict_ab1 = model.predict(ab_test[[i]])\n",
    "    predict_ab1 = np.ravel(predict_ab1)\n",
    "    y_test = np.ravel(y_test)\n",
    "    accurate = 0\n",
    "    for j in range(len(predict_ab1)):\n",
    "        if predict_ab1[j] == y_test[j]:\n",
    "            accurate += 1\n",
    "    print('percent accurate: {:.1f}%'.format((accurate/len(y_test))*100))\n",
    "    print()"
   ]
  },
  {
   "cell_type": "markdown",
   "metadata": {},
   "source": [
    "## Bulgarian v Albanian"
   ]
  },
  {
   "cell_type": "code",
   "execution_count": 31,
   "metadata": {},
   "outputs": [
    {
     "name": "stdout",
     "output_type": "stream",
     "text": [
      "Length\n",
      "slope: 0.5002415\n",
      "percent accurate: 65.4%\n",
      "percent accurate: 65.1%\n",
      "\n",
      "Cons\n",
      "slope: 0.5883032\n",
      "percent accurate: 62.0%\n",
      "percent accurate: 62.8%\n",
      "\n",
      "Vowel\n",
      "slope: 1.0198374\n",
      "percent accurate: 67.8%\n",
      "percent accurate: 67.2%\n",
      "\n",
      "Vowel Percent\n",
      "slope: 1.6006929\n",
      "percent accurate: 60.1%\n",
      "percent accurate: 60.2%\n",
      "\n",
      "Common Char\n",
      "slope: 0.2841944\n",
      "percent accurate: 56.4%\n",
      "percent accurate: 55.9%\n",
      "\n",
      "Common Char %\n",
      "slope: -0.0813102\n",
      "percent accurate: 52.0%\n",
      "percent accurate: 49.9%\n",
      "\n"
     ]
    }
   ],
   "source": [
    "for i in ['Length', 'Cons', 'Vowel', 'Vowel Percent', 'Common Char', 'Common Char %']:\n",
    "    y = np.ravel(alb_bulg[['Language Name']])\n",
    "    model = LogisticRegression().fit(alb_bulg[[i]], y)\n",
    "    predict = model.predict(alb_bulg[[i]])\n",
    "    print(i)\n",
    "    print('slope: {:.7f}'.format(float(model.coef_)))\n",
    "    X_train, X_test, y_train, y_test = train_test_split(alb_bulg[[i]], alb_bulg[['Language Name']], test_size=0.20, random_state=15)\n",
    "    train_df = pd.DataFrame({i: X_train[i]})\n",
    "    predict_two = model.predict(train_df[[i]])\n",
    "    predict_two = np.ravel(predict_two)\n",
    "    y_train = np.ravel(y_train)\n",
    "    accurate2 = 0\n",
    "    for j in range(len(predict_two)):\n",
    "        if predict_two[j] == y_train[j]:\n",
    "            accurate2 += 1\n",
    "    print('percent accurate: {:.1f}%'.format((accurate2/len(y_train))*100)) \n",
    "    ab_test = pd.DataFrame({i: X_test[i]})\n",
    "    predict_ab1 = model.predict(ab_test[[i]])\n",
    "    predict_ab1 = np.ravel(predict_ab1)\n",
    "    y_test = np.ravel(y_test)\n",
    "    accurate = 0\n",
    "    for j in range(len(predict_ab1)):\n",
    "        if predict_ab1[j] == y_test[j]:\n",
    "            accurate += 1\n",
    "    print('percent accurate: {:.1f}%'.format((accurate/len(y_test))*100))\n",
    "    print()"
   ]
  },
  {
   "cell_type": "markdown",
   "metadata": {},
   "source": [
    "# Evaluation of Significance"
   ]
  },
  {
   "cell_type": "markdown",
   "metadata": {},
   "source": [
    "### Slopes from Logistic Regression\n",
    "\n",
    "The slopes I obtained when I ran linear regressions on factors like Length, Number of Consonants, and Vowels were much larger than these slopes. They had an absolute value greater than 0.01. However, these were fairly obvious correlations. When the length of a word increases, there is a higher chance of finding characters in common with another word, especially since our model is so simplistic. It is hard to quantitatively account for similiarties between two short three or letter words, even though they may have common origins. The slopes are printed below."
   ]
  },
  {
   "cell_type": "code",
   "execution_count": 32,
   "metadata": {},
   "outputs": [
    {
     "name": "stdout",
     "output_type": "stream",
     "text": [
      "Slope for random trial 1: 0.00017010857787547184\n"
     ]
    }
   ],
   "source": [
    "def random_regression(n):\n",
    "    x = np.random.normal(loc=0.0, scale=1.0, size=(n))\n",
    "    y = np.random.normal(loc=0.0, scale=1.0, size=(n))\n",
    "    x = x.reshape(-1, 1)\n",
    "    reg = LinearRegression().fit(x, y)\n",
    "    slope = reg.score(x,y)\n",
    "    return slope\n",
    "\n",
    "print('Slope for random trial 1: {}'.format(random_regression(2761)))\n"
   ]
  },
  {
   "cell_type": "code",
   "execution_count": 33,
   "metadata": {},
   "outputs": [
    {
     "name": "stdout",
     "output_type": "stream",
     "text": [
      "Slope for random trial 2: 0.0005281778175055818\n"
     ]
    }
   ],
   "source": [
    "def random_regression(n):\n",
    "    x = np.random.normal(loc=0.0, scale=1.0, size=(n))\n",
    "    y = np.random.normal(loc=0.0, scale=1.0, size=(n))\n",
    "    x = x.reshape(-1, 1)\n",
    "    reg = LinearRegression().fit(x, y)\n",
    "    slope = reg.score(x,y)\n",
    "    return slope\n",
    "\n",
    "print('Slope for random trial 2: {}'.format(random_regression(2761)))\n"
   ]
  },
  {
   "cell_type": "code",
   "execution_count": 34,
   "metadata": {},
   "outputs": [
    {
     "name": "stdout",
     "output_type": "stream",
     "text": [
      "Slope for random trial 3: 0.0008520542383386731\n"
     ]
    }
   ],
   "source": [
    "def random_regression(n):\n",
    "    x = np.random.normal(loc=0.0, scale=1.0, size=(n))\n",
    "    y = np.random.normal(loc=0.0, scale=1.0, size=(n))\n",
    "    x = x.reshape(-1, 1)\n",
    "    reg = LinearRegression().fit(x, y)\n",
    "    slope = reg.score(x,y)\n",
    "    return slope\n",
    "\n",
    "print('Slope for random trial 3: {}'.format(random_regression(2761)))\n"
   ]
  },
  {
   "cell_type": "markdown",
   "metadata": {},
   "source": [
    "For the logistic regressions, the slopes were fairly large. However, not every model had a large accuracy rate. I checked the accuracy rate, and they ranged from 50% accurate to 67.8% accurate. The accuracies are printed next to each model. However, given that there are two possible options, a random model would have a 50% accuracy rate roughly, because there is a 50% chance of guessing correctly. "
   ]
  },
  {
   "cell_type": "markdown",
   "metadata": {},
   "source": []
  },
  {
   "cell_type": "markdown",
   "metadata": {},
   "source": [
    "# Interpretation and Conclusions"
   ]
  },
  {
   "cell_type": "markdown",
   "metadata": {},
   "source": [
    "\n",
    "### Vowel Count, Vowel Percentage, and Word Length\n",
    "\n",
    "I concluded that there was no significant differnce between Albanian, Romanian, and Hungarian in how many characters they had in common. This difference was not a successful variable in creating a model that could distinguish between languages. Vowel count, word length, and vowel percentage had the highest success rates. It is evident that Romanian, Hungarian, and Bulgarian have differences in those respescts. \n",
    "\n",
    "### Similarity to Hungarian\n",
    "\n",
    "Similarity between a word and Hungarian was not a factor that could help distinguish Romanian, Hungarian, and Bulgarian from each other. From the start of the project, it was known that the three languages had no structural similarities to Hungarian or any similarities in the origin of the langauge. They were all in different language groups. However, Romanian had more words in common with Hungarian than the other languages. My model did not pick up on this. This is for multiple reasons; the similarities that exist may be between similar sounding characters but not the same characters--my model only accounted for identical characters. I grouped together some vowel sounds and consonant sounds into one character when I cleaned the data, such as a form of \"a\" and \"i\" in Romanian that sounds almost the same, or \"k\" and \"c\". Overall, a similarity in characters to Hungarian only increased the accuracy of my model by 1% or 2%. \n"
   ]
  },
  {
   "cell_type": "markdown",
   "metadata": {},
   "source": [
    "# Limitations"
   ]
  },
  {
   "cell_type": "markdown",
   "metadata": {},
   "source": [
    "### Difficulty in Measuring Similarity \n",
    "\n",
    "The way I measured similarity in my project is through counting how many characters two words of the same meaning had in common. This works well for some words, like the word for \"dust\" I showed in the introduction. It is clear that each word begins with \"p\", some of the same vowels, and consonants. I found that measuring the number of characters in common does not display similarity well. However, Romanian is linguistically estbalished to have the most words in common with Hungarian because of the occupied territory, and it also had the longest mean and median common characters. The statistics showed this similarity, however, my predicted models did not.\n",
    "\n"
   ]
  },
  {
   "cell_type": "markdown",
   "metadata": {},
   "source": [
    "# Source Code"
   ]
  },
  {
   "cell_type": "markdown",
   "metadata": {},
   "source": [
    "  - [My GitHub Page](https://github.com/avb37/2950Final)\n",
    "  - [Data Cleaning](https://github.com/avb37/2950Final/blob/master/Data%20Cleaning%20Rough%20Draft.ipynb)\n",
    "  - [Data Cleaning and Rough Drafts](https://github.com/avb37/2950Final/blob/master/Draft%204.ipynb)\n"
   ]
  },
  {
   "cell_type": "markdown",
   "metadata": {},
   "source": [
    "# Acknowledgements"
   ]
  },
  {
   "cell_type": "markdown",
   "metadata": {},
   "source": [
    "### Common Characters Counter "
   ]
  },
  {
   "cell_type": "markdown",
   "metadata": {},
   "source": [
    "[Stack Overflow](https://stackoverflow.com/questions/44269409/count-common-characters-in-strings-python#:~:text=If%20you%20want%20to%20maintain,Counter%20instead%20of%20set%20.&text=Analysis%2C%202%20is%20the%20correct,of%20either%20sets%20unique%20values.&text=therefore%20the%20minimum%20count%20is%204.)\n",
    "\n",
    "[Python Link](https://docs.python.org/3/library/collections.html#collections.Counter)"
   ]
  },
  {
   "cell_type": "markdown",
   "metadata": {},
   "source": []
  }
 ],
 "metadata": {
  "kernelspec": {
   "display_name": "Python 3",
   "language": "python",
   "name": "python3"
  },
  "language_info": {
   "codemirror_mode": {
    "name": "ipython",
    "version": 3
   },
   "file_extension": ".py",
   "mimetype": "text/x-python",
   "name": "python",
   "nbconvert_exporter": "python",
   "pygments_lexer": "ipython3",
   "version": "3.8.2"
  }
 },
 "nbformat": 4,
 "nbformat_minor": 4
}
