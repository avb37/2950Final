{
 "cells": [
  {
   "cell_type": "code",
   "execution_count": 1,
   "metadata": {},
   "outputs": [],
   "source": [
    "import pandas as pd\n",
    "import numpy as np\n",
    "from matplotlib import pyplot as plt\n",
    "import re\n",
    "import seaborn as sns\n",
    "from sklearn.linear_model import LinearRegression\n",
    "from sklearn.cluster import KMeans\n",
    "from collections import Counter\n",
    "from sklearn.model_selection import train_test_split\n",
    "from sklearn.linear_model import LogisticRegression\n"
   ]
  },
  {
   "cell_type": "markdown",
   "metadata": {},
   "source": [
    "# Identifying Languages"
   ]
  },
  {
   "cell_type": "markdown",
   "metadata": {},
   "source": [
    "## Logistic Regression - Single Variable, Binary Outcome"
   ]
  },
  {
   "cell_type": "code",
   "execution_count": 2,
   "metadata": {},
   "outputs": [],
   "source": [
    "hung_comparison = pd.read_csv(\"hung_comparison.csv\")\n",
    "\n",
    "alb_bulg = hung_comparison[hung_comparison['Language'] < 3].copy()\n",
    "\n",
    "alb_rom = hung_comparison[hung_comparison['Language'] != 2].copy()\n",
    "\n",
    "bulg_rom = hung_comparison[hung_comparison['Language'] > 1].copy()\n",
    "\n",
    "def change_lang(float):\n",
    "    if float == 3:\n",
    "        return 'Romanian'\n",
    "    elif float == 2:\n",
    "        return 'Bulgarian'\n",
    "    else:\n",
    "        return 'Albanian'\n",
    "\n",
    "ab = []\n",
    "for i in alb_bulg['Language']:\n",
    "    ab.append(change_lang(i))\n",
    "\n",
    "alb_bulg['Language Name'] = ab\n",
    "\n",
    "\n",
    "alb_bulg['Common Char'] = [float(i) for i in alb_bulg['Common Char']]\n",
    "\n",
    "ar = []\n",
    "for i in alb_rom['Language']:\n",
    "    ar.append(change_lang(i))\n",
    "\n",
    "alb_rom['Language Name'] = ar\n",
    "\n",
    "br = []\n",
    "for i in bulg_rom['Language']:\n",
    "    br.append(change_lang(i))\n",
    "\n",
    "bulg_rom['Language Name'] = br\n",
    "\n",
    "alb_rom['Common Char'] = [float(i) for i in alb_rom['Common Char']]\n",
    "bulg_rom['Common Char'] = [float(i) for i in bulg_rom['Common Char']]"
   ]
  },
  {
   "cell_type": "code",
   "execution_count": 3,
   "metadata": {},
   "outputs": [],
   "source": [
    "alb_rom['Common Char %'] = alb_rom['Common Char']/alb_rom['Length']"
   ]
  },
  {
   "cell_type": "code",
   "execution_count": 4,
   "metadata": {},
   "outputs": [],
   "source": [
    "alb_bulg['Common Char %'] = alb_bulg['Common Char']/alb_bulg['Length']"
   ]
  },
  {
   "cell_type": "code",
   "execution_count": 5,
   "metadata": {},
   "outputs": [],
   "source": [
    "bulg_rom['Common Char %'] = bulg_rom['Common Char']/bulg_rom['Length']"
   ]
  },
  {
   "cell_type": "markdown",
   "metadata": {},
   "source": [
    "## Bulgarian v Romanian"
   ]
  },
  {
   "cell_type": "code",
   "execution_count": 59,
   "metadata": {},
   "outputs": [
    {
     "name": "stdout",
     "output_type": "stream",
     "text": [
      "Length\n",
      "slope: -0.1399016\n",
      "percent accurate: 56.4%\n",
      "percent accurate: 55.6%\n",
      "\n",
      "Cons\n",
      "slope: -0.3964938\n",
      "percent accurate: 58.1%\n",
      "percent accurate: 59.3%\n",
      "\n",
      "Vowel\n",
      "slope: 0.0762240\n",
      "percent accurate: 53.6%\n",
      "percent accurate: 55.9%\n",
      "\n",
      "Vowel Percent\n",
      "slope: 4.9531978\n",
      "percent accurate: 63.5%\n",
      "percent accurate: 66.0%\n",
      "\n",
      "Common Char\n",
      "slope: -0.0999854\n",
      "percent accurate: 53.5%\n",
      "percent accurate: 56.0%\n",
      "\n",
      "Common Char %\n",
      "slope: -0.1699031\n",
      "percent accurate: 53.5%\n",
      "percent accurate: 56.0%\n",
      "\n"
     ]
    }
   ],
   "source": [
    "for i in ['Length', 'Cons', 'Vowel', 'Vowel Percent', 'Common Char', 'Common Char %']:\n",
    "    y = np.ravel(bulg_rom[['Language Name']])\n",
    "    model = LogisticRegression().fit(bulg_rom[[i]], y)\n",
    "    predict = model.predict(bulg_rom[[i]])\n",
    "    print(i)\n",
    "    print('slope: {:.7f}'.format(float(model.coef_)))\n",
    "    X_train, X_test, y_train, y_test = train_test_split(bulg_rom[[i]], bulg_rom[['Language Name']], test_size=0.20, random_state=15)\n",
    "    train_df = pd.DataFrame({i: X_train[i]})\n",
    "    predict_two = model.predict(train_df[[i]])\n",
    "    predict_two = np.ravel(predict_two)\n",
    "    y_train = np.ravel(y_train)\n",
    "    accurate2 = 0\n",
    "    for j in range(len(predict_two)):\n",
    "        if predict_two[j] == y_train[j]:\n",
    "            accurate2 += 1\n",
    "    print('percent accurate: {:.1f}%'.format((accurate2/len(y_train))*100)) \n",
    "    ab_test = pd.DataFrame({i: X_test[i]})\n",
    "    predict_ab1 = model.predict(ab_test[[i]])\n",
    "    predict_ab1 = np.ravel(predict_ab1)\n",
    "    y_test = np.ravel(y_test)\n",
    "    accurate = 0\n",
    "    for j in range(len(predict_ab1)):\n",
    "        if predict_ab1[j] == y_test[j]:\n",
    "            accurate += 1\n",
    "    print('percent accurate: {:.1f}%'.format((accurate/len(y_test))*100))\n",
    "    print()"
   ]
  },
  {
   "cell_type": "markdown",
   "metadata": {},
   "source": [
    "## Bulgarian v Albanian"
   ]
  },
  {
   "cell_type": "code",
   "execution_count": 60,
   "metadata": {},
   "outputs": [
    {
     "name": "stdout",
     "output_type": "stream",
     "text": [
      "Length\n",
      "slope: 0.5002415\n",
      "percent accurate: 65.4%\n",
      "percent accurate: 65.1%\n",
      "\n",
      "Cons\n",
      "slope: 0.5883032\n",
      "percent accurate: 62.0%\n",
      "percent accurate: 62.8%\n",
      "\n",
      "Vowel\n",
      "slope: 1.0198374\n",
      "percent accurate: 67.8%\n",
      "percent accurate: 67.2%\n",
      "\n",
      "Vowel Percent\n",
      "slope: 1.6006929\n",
      "percent accurate: 60.1%\n",
      "percent accurate: 60.2%\n",
      "\n",
      "Common Char\n",
      "slope: 0.2841944\n",
      "percent accurate: 56.4%\n",
      "percent accurate: 55.9%\n",
      "\n",
      "Common Char %\n",
      "slope: -0.0813102\n",
      "percent accurate: 52.0%\n",
      "percent accurate: 49.9%\n",
      "\n"
     ]
    }
   ],
   "source": [
    "for i in ['Length', 'Cons', 'Vowel', 'Vowel Percent', 'Common Char', 'Common Char %']:\n",
    "    y = np.ravel(alb_bulg[['Language Name']])\n",
    "    model = LogisticRegression().fit(alb_bulg[[i]], y)\n",
    "    predict = model.predict(alb_bulg[[i]])\n",
    "    print(i)\n",
    "    print('slope: {:.7f}'.format(float(model.coef_)))\n",
    "    X_train, X_test, y_train, y_test = train_test_split(alb_bulg[[i]], alb_bulg[['Language Name']], test_size=0.20, random_state=15)\n",
    "    train_df = pd.DataFrame({i: X_train[i]})\n",
    "    predict_two = model.predict(train_df[[i]])\n",
    "    predict_two = np.ravel(predict_two)\n",
    "    y_train = np.ravel(y_train)\n",
    "    accurate2 = 0\n",
    "    for j in range(len(predict_two)):\n",
    "        if predict_two[j] == y_train[j]:\n",
    "            accurate2 += 1\n",
    "    print('percent accurate: {:.1f}%'.format((accurate2/len(y_train))*100)) \n",
    "    ab_test = pd.DataFrame({i: X_test[i]})\n",
    "    predict_ab1 = model.predict(ab_test[[i]])\n",
    "    predict_ab1 = np.ravel(predict_ab1)\n",
    "    y_test = np.ravel(y_test)\n",
    "    accurate = 0\n",
    "    for j in range(len(predict_ab1)):\n",
    "        if predict_ab1[j] == y_test[j]:\n",
    "            accurate += 1\n",
    "    print('percent accurate: {:.1f}%'.format((accurate/len(y_test))*100))\n",
    "    print()"
   ]
  },
  {
   "cell_type": "markdown",
   "metadata": {},
   "source": [
    "## Albanian v Romanian"
   ]
  },
  {
   "cell_type": "code",
   "execution_count": 61,
   "metadata": {},
   "outputs": [
    {
     "name": "stdout",
     "output_type": "stream",
     "text": [
      "Length\n",
      "slope: 0.3754929\n",
      "percent accurate: 62.1%\n",
      "percent accurate: 62.9%\n",
      "\n",
      "Cons\n",
      "slope: 0.2035049\n",
      "percent accurate: 54.7%\n",
      "percent accurate: 54.2%\n",
      "\n",
      "Vowel\n",
      "slope: 0.9983281\n",
      "percent accurate: 67.5%\n",
      "percent accurate: 67.8%\n",
      "\n",
      "Vowel Percent\n",
      "slope: 4.4113155\n",
      "percent accurate: 62.0%\n",
      "percent accurate: 62.7%\n",
      "\n",
      "Common Char\n",
      "slope: 0.1816676\n",
      "percent accurate: 54.1%\n",
      "percent accurate: 54.4%\n",
      "\n",
      "Common Char %\n",
      "slope: -0.2377524\n",
      "percent accurate: 52.2%\n",
      "percent accurate: 55.1%\n",
      "\n"
     ]
    }
   ],
   "source": [
    "for i in ['Length', 'Cons', 'Vowel', 'Vowel Percent', 'Common Char', 'Common Char %']:\n",
    "    y = np.ravel(alb_rom[['Language Name']])\n",
    "    model = LogisticRegression().fit(alb_rom[[i]], y)\n",
    "    predict = model.predict(alb_rom[[i]])\n",
    "    print(i)\n",
    "    print('slope: {:.7f}'.format(float(model.coef_)))\n",
    "    X_train, X_test, y_train, y_test = train_test_split(alb_rom[[i]], alb_rom[['Language Name']], test_size=0.20, random_state=15)\n",
    "    train_df = pd.DataFrame({i: X_train[i]})\n",
    "    predict_two = model.predict(train_df[[i]])\n",
    "    predict_two = np.ravel(predict_two)\n",
    "    y_train = np.ravel(y_train)\n",
    "    accurate2 = 0\n",
    "    for j in range(len(predict_two)):\n",
    "        if predict_two[j] == y_train[j]:\n",
    "            accurate2 += 1\n",
    "    print('percent accurate: {:.1f}%'.format((accurate2/len(y_train))*100)) \n",
    "    ab_test = pd.DataFrame({i: X_test[i]})\n",
    "    predict_ab1 = model.predict(ab_test[[i]])\n",
    "    predict_ab1 = np.ravel(predict_ab1)\n",
    "    y_test = np.ravel(y_test)\n",
    "    accurate = 0\n",
    "    for j in range(len(predict_ab1)):\n",
    "        if predict_ab1[j] == y_test[j]:\n",
    "            accurate += 1\n",
    "    print('percent accurate: {:.1f}%'.format((accurate/len(y_test))*100))\n",
    "    print()"
   ]
  },
  {
   "cell_type": "markdown",
   "metadata": {},
   "source": []
  }
 ],
 "metadata": {
  "kernelspec": {
   "display_name": "Python 3",
   "language": "python",
   "name": "python3"
  },
  "language_info": {
   "codemirror_mode": {
    "name": "ipython",
    "version": 3
   },
   "file_extension": ".py",
   "mimetype": "text/x-python",
   "name": "python",
   "nbconvert_exporter": "python",
   "pygments_lexer": "ipython3",
   "version": "3.8.2"
  }
 },
 "nbformat": 4,
 "nbformat_minor": 4
}
