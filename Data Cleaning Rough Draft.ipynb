{
 "cells": [
  {
   "cell_type": "code",
   "execution_count": 1,
   "metadata": {},
   "outputs": [],
   "source": [
    "import pandas as pd\n",
    "import numpy as np\n",
    "import matplotlib.pyplot as plt\n",
    "import re\n",
    "from bs4 import BeautifulSoup "
   ]
  },
  {
   "cell_type": "code",
   "execution_count": 2,
   "metadata": {},
   "outputs": [],
   "source": [
    "data = pd.read_csv(\"Balkan_Langs.csv\")"
   ]
  },
  {
   "cell_type": "code",
   "execution_count": 3,
   "metadata": {},
   "outputs": [],
   "source": [
    "balkan_langs = data.drop('Country', 1)\n",
    "balkan_langs['Main Language'] = [i.lower() for i in balkan_langs['Main Language']]   \n",
    "balkan_langs['Main Language'] = [i[3:] for i in balkan_langs['Main Language']]    \n",
    "drop = balkan_langs['Minority Language'].dropna()"
   ]
  },
  {
   "cell_type": "code",
   "execution_count": 4,
   "metadata": {},
   "outputs": [],
   "source": [
    "list = []\n",
    "for i in drop:\n",
    "    i = i.split(\",\")\n",
    "    for j in i:\n",
    "        j = j.lower()\n",
    "        j = j[3:]\n",
    "        list.append(j)\n",
    "minority = pd.DataFrame( {\"name\" : list})\n",
    "minority = minority.drop_duplicates()"
   ]
  },
  {
   "cell_type": "code",
   "execution_count": 5,
   "metadata": {},
   "outputs": [],
   "source": [
    "new = []\n",
    "for i in minority['name']: \n",
    "    new.append(i)\n",
    "for j in balkan_langs['Main Language']:\n",
    "    new.append(j)    \n",
    "two = []\n",
    "for i in new: \n",
    "    i = i.replace('(official)', '')\n",
    "    two.append(i)"
   ]
  },
  {
   "cell_type": "code",
   "execution_count": 6,
   "metadata": {},
   "outputs": [],
   "source": [
    "x = pd.Series(two)\n",
    "unique = pd.DataFrame(x)\n",
    "unique = unique[unique != ' other']\n",
    "unique = unique[unique != 'other']\n",
    "unique = unique[unique != ' unspecified']\n",
    "unique = unique[unique != ' other and unspecified']\n",
    "unique.drop_duplicates()\n",
    "unique = unique.dropna()\n",
    "unique[0] = [i.replace(\" \", \"\") for i in unique[0]]\n",
    "unique[0] = [i.replace(\"%\", \"\") for i in unique[0]]\n",
    "unique = unique.drop_duplicates()"
   ]
  },
  {
   "cell_type": "code",
   "execution_count": 7,
   "metadata": {},
   "outputs": [],
   "source": [
    "unique = unique.rename(columns = {0:'unique_langs'})\n",
    "balkan = data.drop(columns=['Unnamed: 0','Unnamed: 4','Unnamed: 5', 'Unnamed: 6', 'https://en.wikipedia.org/wiki/Balkans'])\n",
    "balkan.columns = ['country', 'main_lang%', 'minority']"
   ]
  },
  {
   "cell_type": "code",
   "execution_count": 8,
   "metadata": {},
   "outputs": [],
   "source": [
    "''' \n",
    "Below I'm trying to see if I can import the text I found in different languages using Beautiful Soup. \n",
    "It seems to work! This is the data that I will be donig a lot of work on because it is large in size. \n",
    "'''\n",
    "a = open('alb01.sgm')\n",
    "data= a.read()\n",
    "soup = BeautifulSoup(data)\n"
   ]
  },
  {
   "cell_type": "code",
   "execution_count": 9,
   "metadata": {},
   "outputs": [
    {
     "data": {
      "text/plain": [
       "Text(0.5, 1.0, 'Percentage of People Who Speak Main Language')"
      ]
     },
     "execution_count": 9,
     "metadata": {},
     "output_type": "execute_result"
    },
    {
     "data": {
      "image/png": "[encoded data removed]",
      "text/plain": [
       "<Figure size 720x216 with 1 Axes>"
      ]
     },
     "metadata": {
      "needs_background": "light"
     },
     "output_type": "display_data"
    }
   ],
   "source": [
    "bm = balkan.loc[:, ('country', 'main_lang%')]\n",
    "bm.loc[:, ('country')] = bm.loc[:, ('country')].str.lower()\n",
    "bm.loc[:, ('country')] = bm.loc[:, ('country')].replace(' ', '_', regex=True)\n",
    "bm.loc[:, ('country')] = bm.loc[:, ('country')].replace('bosnia_and_herzegovina', 'b&h', regex=True)\n",
    "bm.loc[:, ('country')] = bm.loc[:, ('country')].replace('north_macedonia', 'n_mac', regex=True)\n",
    "bm.loc[:, ('country')] = bm.loc[:, ('country')].replace('kosovo', 'kos', regex=True)\n",
    "bm.loc[:, ('country')] = bm.loc[:, ('country')].replace('montenegro', 'mont', regex=True)\n",
    "bm.loc[:, ('main_lang%')] = bm.loc[:, ('main_lang%')].apply(lambda x: x[:2])\n",
    "bm['main_lang%'] = [int(i) for i in bm['main_lang%']]\n",
    "\n",
    "bm.plot(x ='country', y='main_lang%', kind = 'scatter', figsize =(10,3))\n",
    "plt.title(\"Percentage of People Who Speak Main Language\")\n"
   ]
  },
  {
   "cell_type": "code",
   "execution_count": 10,
   "metadata": {},
   "outputs": [
    {
     "name": "stdout",
     "output_type": "stream",
     "text": [
      "      unique_langs\n",
      "11        albanian\n",
      "8          bosnian\n",
      "21       bulgarian\n",
      "2         croatian\n",
      "23           greek\n",
      "15       hungarian\n",
      "17         kurdish\n",
      "26      macedonian\n",
      "10     montenegrin\n",
      "5           romani\n",
      "27        romanian\n",
      "1          serbian\n",
      "16  serbo-croatian\n",
      "29         slovene\n",
      "4          turkish\n",
      "Number of unique langauges spoken by more than 1% of a nation: 15\n"
     ]
    }
   ],
   "source": [
    "unique = unique.sort_values(by='unique_langs')\n",
    "print(unique)\n",
    "print(\"Number of unique langauges spoken by more than 1% of a nation: {}\".format(unique.shape[0]))\n"
   ]
  },
  {
   "cell_type": "code",
   "execution_count": 11,
   "metadata": {},
   "outputs": [],
   "source": [
    "albanian = pd.read_csv(\"Albanian.csv\")\n",
    "bulgarian = pd.read_csv(\"Bulgarian.csv\")\n",
    "greek = pd.read_csv(\"Greek.csv\")\n",
    "hungarian = pd.read_csv(\"Hungarian.csv\")\n",
    "romanian = pd.read_csv(\"Romanian.csv\")\n",
    "\n",
    "albanian = albanian[['Name', 'Parameter']]\n",
    "bulgarian = bulgarian[['Name', 'Parameter']]\n",
    "greek = greek[['Name', 'Parameter']]\n",
    "hungarian = hungarian[['Name', 'Parameter']]\n",
    "romanian = romanian[['Name', 'Parameter']]"
   ]
  },
  {
   "cell_type": "code",
   "execution_count": 12,
   "metadata": {},
   "outputs": [
    {
     "name": "stdout",
     "output_type": "stream",
     "text": [
      "            Name       Parameter\n",
      "0           lume           world\n",
      "1        pami_nt     earth, land\n",
      "2         t_ar__     earth, land\n",
      "3           praf            dust\n",
      "4        pulbere            dust\n",
      "...          ...             ...\n",
      "1224      stafie  ghost, phantom\n",
      "1225     spectru  ghost, phantom\n",
      "1226    fantoma_  ghost, phantom\n",
      "1227       augur   omen, portent\n",
      "1228  prevestire   omen, portent\n",
      "\n",
      "[1229 rows x 2 columns]\n",
      "                 Name       Parameter\n",
      "0               'bot_           world\n",
      "1                  _e           world\n",
      "2     r_okul_i a'l_em           world\n",
      "3              du_'_a           world\n",
      "4               'tok_     earth, land\n",
      "...               ...             ...\n",
      "1972          l_u'gat  ghost, phantom\n",
      "1973          'k_ipul  ghost, phantom\n",
      "1974       kuku'vrik_  ghost, phantom\n",
      "1975            o'gur   omen, portent\n",
      "1976             v_ng   omen, portent\n",
      "\n",
      "[1977 rows x 2 columns]\n",
      "                   Name           Parameter\n",
      "0     'kosmos ['kozmos]               world\n",
      "1                   '_i         earth, land\n",
      "2                   '_i  earth=ground, soil\n",
      "3               'e_afos  earth=ground, soil\n",
      "4                 'xoma  earth=ground, soil\n",
      "...                 ...                 ...\n",
      "1715           'fadasma      ghost, phantom\n",
      "1716            'pnefma      ghost, phantom\n",
      "1717        vri'kolakas      ghost, phantom\n",
      "1718         pro'minima       omen, portent\n",
      "1719             io'nos       omen, portent\n",
      "\n",
      "[1720 rows x 2 columns]\n",
      "          Name           Parameter\n",
      "0        világ               world\n",
      "1         föld         earth, land\n",
      "2         föld  earth=ground, soil\n",
      "3        talay  earth=ground, soil\n",
      "4          por                dust\n",
      "...        ...                 ...\n",
      "1625  varázsló     sorcerer, witch\n",
      "1626    b_vész     sorcerer, witch\n",
      "1627   szellem          fairy, elf\n",
      "1628  kísértet      ghost, phantom\n",
      "1629    el_yel       omen, portent\n",
      "\n",
      "[1630 rows x 2 columns]\n",
      "                       Name           Parameter\n",
      "0                    svját               world\n",
      "1                    zemjá         earth, land\n",
      "2                    zemjá  earth=ground, soil\n",
      "3                   póčva  earth=ground, soil\n",
      "4                      prax                dust\n",
      "...                     ...                 ...\n",
      "1995  proklínam/ prokəlná               curse\n",
      "1996                 kəlná               curse\n",
      "1997              [póstja]           fast (vb)\n",
      "1998                  nebé              heaven\n",
      "1999                 [ráj]              heaven\n",
      "\n",
      "[2000 rows x 2 columns]\n"
     ]
    }
   ],
   "source": [
    "print(romanian)\n",
    "print(albanian)\n",
    "print(greek)\n",
    "print(hungarian)\n",
    "print(bulgarian)"
   ]
  },
  {
   "cell_type": "markdown",
   "metadata": {},
   "source": [
    "### After looking at these, I want to zoom in on the words for \"dust\" in these languages.\n",
    "I also have noticed that special characters have been replaced with underscores, which will make this very difficult."
   ]
  },
  {
   "cell_type": "code",
   "execution_count": 13,
   "metadata": {},
   "outputs": [
    {
     "name": "stdout",
     "output_type": "stream",
     "text": [
      "Romanian:      Name Parameter\n",
      "3     praf      dust\n",
      "4  pulbere      dust\n",
      "\n",
      "Hungarian:  Name Parameter\n",
      "4  por      dust\n",
      "\n",
      "Albanian:      Name Parameter\n",
      "8  'pluhur      dust\n",
      "\n",
      "Bulgarian:   Name Parameter\n",
      "4  prax      dust\n",
      "\n",
      "Greek:     Name Parameter\n",
      "5  'skoni      dust\n",
      "\n"
     ]
    }
   ],
   "source": [
    "print(\"Romanian:{}\\n\".format(romanian.loc[romanian['Parameter'] == 'dust']))\n",
    "print(\"Hungarian:{}\\n\".format(hungarian.loc[hungarian['Parameter'] == 'dust']))\n",
    "print(\"Albanian:{}\\n\".format(albanian.loc[albanian['Parameter'] == 'dust']))\n",
    "print(\"Bulgarian:{}\\n\".format(bulgarian.loc[bulgarian['Parameter'] == 'dust']))\n",
    "print(\"Greek:{}\\n\".format(greek.loc[greek['Parameter'] == 'dust']))"
   ]
  },
  {
   "cell_type": "markdown",
   "metadata": {},
   "source": [
    "## Observations:\n",
    "As you can see, all languages here except for Greek share the letters \"p\" and \"r\" in the word for dust. A few use the \"a\" vowel and a few use the \"u\" vowel. \n",
    "\n",
    "## Plan:\n",
    "There are a few things I want to do. I want to find some way to organize this data and find relevant trends. I also need to figure out what I will do about the underscores that are replacing special characters. I need to figure out how I will group data and figure out what kinds of words they are using in this dictionary and also how I will group them together. I would also like to create some Python functions that help me with this and return values that I can use for these trends. This will be a lot of work, but I'm passionate about this so I'm not too worried."
   ]
  },
  {
   "cell_type": "code",
   "execution_count": 14,
   "metadata": {},
   "outputs": [
    {
     "name": "stdout",
     "output_type": "stream",
     "text": [
      "            Name       Parameter\n",
      "0           lume           world\n",
      "1        pami_nt     earth, land\n",
      "2         t_ar__     earth, land\n",
      "3           praf            dust\n",
      "4        pulbere            dust\n",
      "...          ...             ...\n",
      "1224      stafie  ghost, phantom\n",
      "1225     spectru  ghost, phantom\n",
      "1226    fantoma_  ghost, phantom\n",
      "1227       augur   omen, portent\n",
      "1228  prevestire   omen, portent\n",
      "\n",
      "[1229 rows x 2 columns]\n"
     ]
    }
   ],
   "source": [
    "print(romanian)"
   ]
  },
  {
   "cell_type": "code",
   "execution_count": 15,
   "metadata": {},
   "outputs": [
    {
     "name": "stdout",
     "output_type": "stream",
     "text": [
      "          Name           Parameter\n",
      "0        világ               world\n",
      "1         föld         earth, land\n",
      "2         föld  earth=ground, soil\n",
      "3        talay  earth=ground, soil\n",
      "4          por                dust\n",
      "...        ...                 ...\n",
      "1625  varázsló     sorcerer, witch\n",
      "1626    b_vész     sorcerer, witch\n",
      "1627   szellem          fairy, elf\n",
      "1628  kísértet      ghost, phantom\n",
      "1629    el_yel       omen, portent\n",
      "\n",
      "[1630 rows x 2 columns]\n",
      "                       Name           Parameter\n",
      "0                    svját               world\n",
      "1                    zemjá         earth, land\n",
      "2                    zemjá  earth=ground, soil\n",
      "3                   póčva  earth=ground, soil\n",
      "4                      prax                dust\n",
      "...                     ...                 ...\n",
      "1995  proklínam/ prokəlná               curse\n",
      "1996                 kəlná               curse\n",
      "1997              [póstja]           fast (vb)\n",
      "1998                  nebé              heaven\n",
      "1999                 [ráj]              heaven\n",
      "\n",
      "[2000 rows x 2 columns]\n",
      "                 Name       Parameter\n",
      "0               'bot_           world\n",
      "1                  _e           world\n",
      "2     r_okul_i a'l_em           world\n",
      "3              du_'_a           world\n",
      "4               'tok_     earth, land\n",
      "...               ...             ...\n",
      "1972          l_u'gat  ghost, phantom\n",
      "1973          'k_ipul  ghost, phantom\n",
      "1974       kuku'vrik_  ghost, phantom\n",
      "1975            o'gur   omen, portent\n",
      "1976             v_ng   omen, portent\n",
      "\n",
      "[1977 rows x 2 columns]\n"
     ]
    }
   ],
   "source": [
    "print(hungarian)\n",
    "print(bulgarian)\n",
    "print(albanian)"
   ]
  },
  {
   "cell_type": "code",
   "execution_count": 16,
   "metadata": {},
   "outputs": [],
   "source": [
    "romanian = romanian.rename(columns = {'Name': 'Romanian'})"
   ]
  },
  {
   "cell_type": "code",
   "execution_count": 17,
   "metadata": {},
   "outputs": [],
   "source": [
    "bulgarian = bulgarian.rename(columns = {'Name': 'Bulgarian'})\n",
    "albanian = albanian.rename(columns = {'Name': 'Albanian'})\n",
    "hungarian = hungarian.rename(columns = {'Name': 'Hungarian'})"
   ]
  },
  {
   "cell_type": "code",
   "execution_count": 18,
   "metadata": {},
   "outputs": [
    {
     "name": "stdout",
     "output_type": "stream",
     "text": [
      "        Romanian       Parameter\n",
      "0           lume           world\n",
      "1        pami_nt     earth, land\n",
      "2         t_ar__     earth, land\n",
      "3           praf            dust\n",
      "4        pulbere            dust\n",
      "...          ...             ...\n",
      "1224      stafie  ghost, phantom\n",
      "1225     spectru  ghost, phantom\n",
      "1226    fantoma_  ghost, phantom\n",
      "1227       augur   omen, portent\n",
      "1228  prevestire   omen, portent\n",
      "\n",
      "[1229 rows x 2 columns]\n",
      "                  Bulgarian           Parameter\n",
      "0                    svját               world\n",
      "1                    zemjá         earth, land\n",
      "2                    zemjá  earth=ground, soil\n",
      "3                   póčva  earth=ground, soil\n",
      "4                      prax                dust\n",
      "...                     ...                 ...\n",
      "1995  proklínam/ prokəlná               curse\n",
      "1996                 kəlná               curse\n",
      "1997              [póstja]           fast (vb)\n",
      "1998                  nebé              heaven\n",
      "1999                 [ráj]              heaven\n",
      "\n",
      "[2000 rows x 2 columns]\n",
      "     Hungarian           Parameter\n",
      "0        világ               world\n",
      "1         föld         earth, land\n",
      "2         föld  earth=ground, soil\n",
      "3        talay  earth=ground, soil\n",
      "4          por                dust\n",
      "...        ...                 ...\n",
      "1625  varázsló     sorcerer, witch\n",
      "1626    b_vész     sorcerer, witch\n",
      "1627   szellem          fairy, elf\n",
      "1628  kísértet      ghost, phantom\n",
      "1629    el_yel       omen, portent\n",
      "\n",
      "[1630 rows x 2 columns]\n",
      "             Albanian       Parameter\n",
      "0               'bot_           world\n",
      "1                  _e           world\n",
      "2     r_okul_i a'l_em           world\n",
      "3              du_'_a           world\n",
      "4               'tok_     earth, land\n",
      "...               ...             ...\n",
      "1972          l_u'gat  ghost, phantom\n",
      "1973          'k_ipul  ghost, phantom\n",
      "1974       kuku'vrik_  ghost, phantom\n",
      "1975            o'gur   omen, portent\n",
      "1976             v_ng   omen, portent\n",
      "\n",
      "[1977 rows x 2 columns]\n"
     ]
    }
   ],
   "source": [
    "print(romanian)\n",
    "print(bulgarian)\n",
    "print(hungarian)\n",
    "print(albanian)"
   ]
  },
  {
   "cell_type": "code",
   "execution_count": 19,
   "metadata": {},
   "outputs": [],
   "source": [
    "r_dash = []\n",
    "\n",
    "for i in romanian['Parameter']:\n",
    "    if i.find('/') != -1:\n",
    "        r_dash.append(i)\n",
    "    else:\n",
    "        pass\n",
    "  "
   ]
  },
  {
   "cell_type": "code",
   "execution_count": 20,
   "metadata": {},
   "outputs": [
    {
     "name": "stdout",
     "output_type": "stream",
     "text": [
      "[]\n"
     ]
    }
   ],
   "source": [
    "print(r_dash)"
   ]
  },
  {
   "cell_type": "code",
   "execution_count": 21,
   "metadata": {},
   "outputs": [],
   "source": [
    "bulgarian['Bulgarian'] = [i.replace('_', '') for i in bulgarian['Bulgarian']]\n",
    "bulgarian['Bulgarian'] = [i.replace('-', '') for i in bulgarian['Bulgarian']]\n",
    "bulgarian['Bulgarian'] = [i.replace('(', '') for i in bulgarian['Bulgarian']]\n",
    "bulgarian['Bulgarian'] = [i.replace(')', '') for i in bulgarian['Bulgarian']]\n",
    "bulgarian['Bulgarian'] = [i.replace('[', '') for i in bulgarian['Bulgarian']]\n",
    "bulgarian['Bulgarian'] = [i.replace(']', '') for i in bulgarian['Bulgarian']]\n",
    "bulgarian['Bulgarian'] = [i.replace(', ', '/') for i in bulgarian['Bulgarian']]\n",
    "bulgarian['Bulgarian'] = [i.replace('=', '/') for i in bulgarian['Bulgarian']]\n",
    "bulgarian['Bulgarian'] = [i.replace('á', 'a') for i in bulgarian['Bulgarian']]\n",
    "bulgarian['Bulgarian'] = [i.replace('č', 'c') for i in bulgarian['Bulgarian']]\n",
    "bulgarian['Bulgarian'] = [i.replace('ó', 'o') for i in bulgarian['Bulgarian']]\n",
    "bulgarian['Bulgarian'] = [i.replace('í', 'i') for i in bulgarian['Bulgarian']]\n",
    "bulgarian['Bulgarian'] = [i.replace('ə', 'a') for i in bulgarian['Bulgarian']]\n",
    "bulgarian['Bulgarian'] = [i.replace('é', 'e') for i in bulgarian['Bulgarian']]\n",
    "\n"
   ]
  },
  {
   "cell_type": "code",
   "execution_count": 22,
   "metadata": {},
   "outputs": [
    {
     "name": "stdout",
     "output_type": "stream",
     "text": [
      "                Bulgarian           Parameter\n",
      "0                   svjat               world\n",
      "1                   zemja         earth, land\n",
      "2                   zemja  earth=ground, soil\n",
      "3                   pocva  earth=ground, soil\n",
      "4                    prax                dust\n",
      "...                   ...                 ...\n",
      "1995  proklinam/ prokalna               curse\n",
      "1996                kalna               curse\n",
      "1997               postja           fast (vb)\n",
      "1998                 nebe              heaven\n",
      "1999                  raj              heaven\n",
      "\n",
      "[2000 rows x 2 columns]\n"
     ]
    }
   ],
   "source": [
    "print(bulgarian)"
   ]
  },
  {
   "cell_type": "markdown",
   "metadata": {},
   "source": [
    "Now that I have done this for 2 langauges, I want to create two functions that can perform a universal data cleaning for me. "
   ]
  },
  {
   "cell_type": "code",
   "execution_count": 23,
   "metadata": {},
   "outputs": [],
   "source": [
    "\n",
    "\n",
    "def clean_words(df, parameter):\n",
    "    \"\"\" takes in dataframe, string of parameter\"\"\"\n",
    "    df[parameter] = [i.replace(\"(vb)\", '') for i in df[parameter]]\n",
    "    df[parameter] = [i.replace('_', '') for i in df[parameter]]\n",
    "    df[parameter] = [i.replace('-', '') for i in df[parameter]]\n",
    "    df[parameter] = [i.replace('(', '') for i in df[parameter]]\n",
    "    df[parameter] = [i.replace(')', '') for i in df[parameter]]\n",
    "    df[parameter] = [i.replace('[', '') for i in df[parameter]]\n",
    "    df[parameter] = [i.replace(']', '') for i in df[parameter]]\n",
    "    df[parameter] = [i.replace(' ', '') for i in df[parameter]]\n",
    "    df[parameter] = [i.replace(',', '/') for i in df[parameter]]\n",
    "    df[parameter] = [i.replace('=', '/') for i in df[parameter]]\n",
    "    df[parameter] = [i.replace('á', 'a') for i in df[parameter]]\n",
    "    df[parameter] = [i.replace('č', 'c') for i in df[parameter]]\n",
    "    df[parameter] = [i.replace('ó', 'o') for i in df[parameter]]\n",
    "    df[parameter] = [i.replace('í', 'i') for i in df[parameter]]\n",
    "    df[parameter] = [i.replace('ə', 'a') for i in df[parameter]]\n",
    "    df[parameter] = [i.replace('é', 'e') for i in df[parameter]]\n",
    "    df[parameter] = [i.replace('î', 'i') for i in df[parameter]]\n",
    "    df[parameter] = [i.replace('ă', 'a') for i in df[parameter]]\n",
    "    df[parameter] = [i.replace('â', 'i') for i in df[parameter]]\n",
    "    df[parameter] = [i.replace('ț', 't') for i in df[parameter]]\n",
    "    df[parameter] = [i.replace('ș', 'ș') for i in df[parameter]]\n",
    "    df[parameter] = [i.replace('ö', 'o') for i in df[parameter]]\n",
    "    df[parameter] = [i.replace('ő', 'o') for i in df[parameter]]\n",
    "    df[parameter] = [i.replace('ú', 'u') for i in df[parameter]]\n",
    "    df[parameter] = [i.replace('ü', 'u') for i in df[parameter]]\n",
    "    df[parameter] = [i.replace('ű', 'u') for i in df[parameter]]\n",
    "    df[parameter] = [i.replace('ç', 's') for i in df[parameter]]\n",
    "    df[parameter] = [i.replace(\"'\", '') for i in df[parameter]]\n",
    "    df[parameter] = [i.replace(\"á\", 'a') for i in df[parameter]]\n",
    "    df[parameter] = [i.replace(\"ó\", 'o') for i in df[parameter]]\n",
    "    df[parameter] = [i.replace(\"í\", 'i') for i in df[parameter]]\n",
    "    df[parameter] = [i.replace(\"é\", 'e') for i in df[parameter]]\n",
    "    df[parameter] = [i.replace(\"š\", 's') for i in df[parameter]]\n",
    "    df[parameter] = [i.replace(\"c̷\", 'c') for i in df[parameter]]\n",
    "    df[parameter] = [i.replace(\"ž\", 'z') for i in df[parameter]]\n",
    "    df[parameter] = [i.replace(\"ú\", 'u') for i in df[parameter]]\n",
    "    df[parameter] = [i.replace(\"0\", '') for i in df[parameter]]\n",
    "    df[parameter] = [i.replace(\"1\", '') for i in df[parameter]]\n",
    "    df[parameter] = [i.replace(\"2\", '') for i in df[parameter]]\n",
    "    df[parameter] = [i.replace(\"3\", '') for i in df[parameter]]\n",
    "    df[parameter] = [i.replace(\"4\", '') for i in df[parameter]]\n",
    "    df[parameter] = [i.replace(\"5\", '') for i in df[parameter]]\n",
    "    df[parameter] = [i.replace(\"6\", '') for i in df[parameter]]\n",
    "    df[parameter] = [i.replace(\"7\", '') for i in df[parameter]]\n",
    "    df[parameter] = [i.replace(\"8\", '') for i in df[parameter]]\n",
    "    df[parameter] = [i.replace(\"9\", '') for i in df[parameter]]\n",
    "    df[parameter] = [re.sub(r'\\/.*$', '', i) for i in df[parameter]] \n",
    "    df[parameter] = [re.sub(r'\\~.*$', '', i) for i in df[parameter]] \n",
    "    \n",
    "    return df"
   ]
  },
  {
   "cell_type": "code",
   "execution_count": 24,
   "metadata": {},
   "outputs": [],
   "source": [
    "hungarian = clean_words(hungarian, \"Hungarian\")\n",
    "hungarian = clean_words(hungarian, \"Parameter\")\n",
    "bulgarian = clean_words(bulgarian, \"Bulgarian\")\n",
    "bulgarian = clean_words(bulgarian, \"Parameter\")\n",
    "albanian = clean_words(albanian, \"Albanian\")\n",
    "albanian = clean_words(albanian, \"Parameter\")\n",
    "romanian = clean_words(romanian, \"Parameter\")\n",
    "romanian = clean_words(romanian, \"Romanian\")"
   ]
  },
  {
   "cell_type": "code",
   "execution_count": 25,
   "metadata": {},
   "outputs": [
    {
     "name": "stdout",
     "output_type": "stream",
     "text": [
      "     Hungarian Parameter\n",
      "0        vilag     world\n",
      "1         fold     earth\n",
      "2         fold     earth\n",
      "3        talay     earth\n",
      "4          por      dust\n",
      "...        ...       ...\n",
      "1625  varazslo  sorcerer\n",
      "1626     bvesz  sorcerer\n",
      "1627   szellem     fairy\n",
      "1628  kisertet     ghost\n",
      "1629     elyel      omen\n",
      "\n",
      "[1630 rows x 2 columns]\n"
     ]
    }
   ],
   "source": [
    "print(hungarian)\n"
   ]
  },
  {
   "cell_type": "code",
   "execution_count": 26,
   "metadata": {},
   "outputs": [
    {
     "name": "stdout",
     "output_type": "stream",
     "text": [
      "        Romanian Parameter\n",
      "0           lume     world\n",
      "1         pamint     earth\n",
      "2            tar     earth\n",
      "3           praf      dust\n",
      "4        pulbere      dust\n",
      "...          ...       ...\n",
      "1224      stafie     ghost\n",
      "1225     spectru     ghost\n",
      "1226     fantoma     ghost\n",
      "1227       augur      omen\n",
      "1228  prevestire      omen\n",
      "\n",
      "[1229 rows x 2 columns]\n"
     ]
    }
   ],
   "source": [
    "print(romanian)"
   ]
  },
  {
   "cell_type": "code",
   "execution_count": 27,
   "metadata": {},
   "outputs": [
    {
     "name": "stdout",
     "output_type": "stream",
     "text": [
      "      Bulgarian Parameter\n",
      "0         svjat     world\n",
      "1         zemja     earth\n",
      "2         zemja     earth\n",
      "3         pocva     earth\n",
      "4          prax      dust\n",
      "...         ...       ...\n",
      "1995  proklinam     curse\n",
      "1996      kalna     curse\n",
      "1997     postja      fast\n",
      "1998       nebe    heaven\n",
      "1999        raj    heaven\n",
      "\n",
      "[2000 rows x 2 columns]\n"
     ]
    }
   ],
   "source": [
    "print(bulgarian)"
   ]
  },
  {
   "cell_type": "code",
   "execution_count": 28,
   "metadata": {},
   "outputs": [
    {
     "name": "stdout",
     "output_type": "stream",
     "text": [
      "        Albanian Parameter\n",
      "0            bot     world\n",
      "1              e     world\n",
      "2     rokulialem     world\n",
      "3            dua     world\n",
      "4            tok     earth\n",
      "...          ...       ...\n",
      "1972       lugat     ghost\n",
      "1973       kipul     ghost\n",
      "1974    kukuvrik     ghost\n",
      "1975        ogur      omen\n",
      "1976         vng      omen\n",
      "\n",
      "[1977 rows x 2 columns]\n"
     ]
    }
   ],
   "source": [
    "print(albanian)"
   ]
  },
  {
   "cell_type": "markdown",
   "metadata": {},
   "source": [
    "### Things to look for: \n",
    "- common letters\n",
    "- more or less vowels\n",
    "- more or less consontants \n",
    "- word length \n",
    "- prevalence of letter combinations together (dipthongs)\n"
   ]
  },
  {
   "cell_type": "markdown",
   "metadata": {},
   "source": [
    "Before merging my data, I will drop any columns that repeat."
   ]
  },
  {
   "cell_type": "code",
   "execution_count": 29,
   "metadata": {},
   "outputs": [],
   "source": [
    "albanian = albanian.drop_duplicates()\n",
    "bulgarian = bulgarian.drop_duplicates()\n",
    "hungarian = hungarian.drop_duplicates()\n",
    "romanian = romanian.drop_duplicates()"
   ]
  },
  {
   "cell_type": "code",
   "execution_count": 30,
   "metadata": {},
   "outputs": [
    {
     "name": "stdout",
     "output_type": "stream",
     "text": [
      "        Albanian Parameter\n",
      "0            bot     world\n",
      "1              e     world\n",
      "2     rokulialem     world\n",
      "3            dua     world\n",
      "4            tok     earth\n",
      "...          ...       ...\n",
      "1972       lugat     ghost\n",
      "1973       kipul     ghost\n",
      "1974    kukuvrik     ghost\n",
      "1975        ogur      omen\n",
      "1976         vng      omen\n",
      "\n",
      "[1974 rows x 2 columns]\n",
      "      Bulgarian Parameter\n",
      "0         svjat     world\n",
      "1         zemja     earth\n",
      "3         pocva     earth\n",
      "4          prax      dust\n",
      "5           kal       mud\n",
      "...         ...       ...\n",
      "1995  proklinam     curse\n",
      "1996      kalna     curse\n",
      "1997     postja      fast\n",
      "1998       nebe    heaven\n",
      "1999        raj    heaven\n",
      "\n",
      "[1992 rows x 2 columns]\n",
      "     Hungarian Parameter\n",
      "0        vilag     world\n",
      "1         fold     earth\n",
      "3        talay     earth\n",
      "4          por      dust\n",
      "5          sar       mud\n",
      "...        ...       ...\n",
      "1625  varazslo  sorcerer\n",
      "1626     bvesz  sorcerer\n",
      "1627   szellem     fairy\n",
      "1628  kisertet     ghost\n",
      "1629     elyel      omen\n",
      "\n",
      "[1624 rows x 2 columns]\n",
      "        Romanian Parameter\n",
      "0           lume     world\n",
      "1         pamint     earth\n",
      "2            tar     earth\n",
      "3           praf      dust\n",
      "4        pulbere      dust\n",
      "...          ...       ...\n",
      "1224      stafie     ghost\n",
      "1225     spectru     ghost\n",
      "1226     fantoma     ghost\n",
      "1227       augur      omen\n",
      "1228  prevestire      omen\n",
      "\n",
      "[1227 rows x 2 columns]\n"
     ]
    }
   ],
   "source": [
    "print(albanian)\n",
    "print(bulgarian)\n",
    "print(hungarian)\n",
    "print(romanian)"
   ]
  },
  {
   "cell_type": "markdown",
   "metadata": {},
   "source": [
    "I would now like to combine these into two large dataframes: one that keeps N/A values and one that eliminates all rows with N/A values. "
   ]
  },
  {
   "cell_type": "markdown",
   "metadata": {},
   "source": [
    "### Merging: \n",
    "\n",
    "- first i will create a new dataframe with just albanian \n",
    "- then i will add each one to that "
   ]
  },
  {
   "cell_type": "code",
   "execution_count": 31,
   "metadata": {},
   "outputs": [],
   "source": [
    "merged_na = pd.DataFrame(\n",
    "        {\n",
    "        \"Albanian\" : albanian['Albanian'].copy(),\n",
    "        \"Parameter\" : albanian['Parameter'].copy(),\n",
    "        })"
   ]
  },
  {
   "cell_type": "code",
   "execution_count": 32,
   "metadata": {},
   "outputs": [
    {
     "data": {
      "text/html": [
       "<div>\n",
       "<style scoped>\n",
       "    .dataframe tbody tr th:only-of-type {\n",
       "        vertical-align: middle;\n",
       "    }\n",
       "\n",
       "    .dataframe tbody tr th {\n",
       "        vertical-align: top;\n",
       "    }\n",
       "\n",
       "    .dataframe thead th {\n",
       "        text-align: right;\n",
       "    }\n",
       "</style>\n",
       "<table border=\"1\" class=\"dataframe\">\n",
       "  <thead>\n",
       "    <tr style=\"text-align: right;\">\n",
       "      <th></th>\n",
       "      <th>Albanian</th>\n",
       "      <th>Parameter</th>\n",
       "    </tr>\n",
       "  </thead>\n",
       "  <tbody>\n",
       "    <tr>\n",
       "      <th>0</th>\n",
       "      <td>bot</td>\n",
       "      <td>world</td>\n",
       "    </tr>\n",
       "    <tr>\n",
       "      <th>1</th>\n",
       "      <td>e</td>\n",
       "      <td>world</td>\n",
       "    </tr>\n",
       "    <tr>\n",
       "      <th>2</th>\n",
       "      <td>rokulialem</td>\n",
       "      <td>world</td>\n",
       "    </tr>\n",
       "    <tr>\n",
       "      <th>3</th>\n",
       "      <td>dua</td>\n",
       "      <td>world</td>\n",
       "    </tr>\n",
       "    <tr>\n",
       "      <th>4</th>\n",
       "      <td>tok</td>\n",
       "      <td>earth</td>\n",
       "    </tr>\n",
       "    <tr>\n",
       "      <th>...</th>\n",
       "      <td>...</td>\n",
       "      <td>...</td>\n",
       "    </tr>\n",
       "    <tr>\n",
       "      <th>1972</th>\n",
       "      <td>lugat</td>\n",
       "      <td>ghost</td>\n",
       "    </tr>\n",
       "    <tr>\n",
       "      <th>1973</th>\n",
       "      <td>kipul</td>\n",
       "      <td>ghost</td>\n",
       "    </tr>\n",
       "    <tr>\n",
       "      <th>1974</th>\n",
       "      <td>kukuvrik</td>\n",
       "      <td>ghost</td>\n",
       "    </tr>\n",
       "    <tr>\n",
       "      <th>1975</th>\n",
       "      <td>ogur</td>\n",
       "      <td>omen</td>\n",
       "    </tr>\n",
       "    <tr>\n",
       "      <th>1976</th>\n",
       "      <td>vng</td>\n",
       "      <td>omen</td>\n",
       "    </tr>\n",
       "  </tbody>\n",
       "</table>\n",
       "<p>1974 rows × 2 columns</p>\n",
       "</div>"
      ],
      "text/plain": [
       "        Albanian Parameter\n",
       "0            bot     world\n",
       "1              e     world\n",
       "2     rokulialem     world\n",
       "3            dua     world\n",
       "4            tok     earth\n",
       "...          ...       ...\n",
       "1972       lugat     ghost\n",
       "1973       kipul     ghost\n",
       "1974    kukuvrik     ghost\n",
       "1975        ogur      omen\n",
       "1976         vng      omen\n",
       "\n",
       "[1974 rows x 2 columns]"
      ]
     },
     "execution_count": 32,
     "metadata": {},
     "output_type": "execute_result"
    }
   ],
   "source": [
    "merged_na"
   ]
  },
  {
   "cell_type": "code",
   "execution_count": 33,
   "metadata": {},
   "outputs": [],
   "source": [
    "merged_na = pd.merge(merged_na, bulgarian, how='outer', on='Parameter')"
   ]
  },
  {
   "cell_type": "code",
   "execution_count": 34,
   "metadata": {},
   "outputs": [],
   "source": [
    "merged_na = pd.merge(merged_na, hungarian, how='outer', on='Parameter')"
   ]
  },
  {
   "cell_type": "code",
   "execution_count": 35,
   "metadata": {},
   "outputs": [],
   "source": [
    "merged_na = pd.merge(merged_na, romanian, how='outer', on='Parameter')"
   ]
  },
  {
   "cell_type": "code",
   "execution_count": 36,
   "metadata": {},
   "outputs": [
    {
     "data": {
      "text/html": [
       "<div>\n",
       "<style scoped>\n",
       "    .dataframe tbody tr th:only-of-type {\n",
       "        vertical-align: middle;\n",
       "    }\n",
       "\n",
       "    .dataframe tbody tr th {\n",
       "        vertical-align: top;\n",
       "    }\n",
       "\n",
       "    .dataframe thead th {\n",
       "        text-align: right;\n",
       "    }\n",
       "</style>\n",
       "<table border=\"1\" class=\"dataframe\">\n",
       "  <thead>\n",
       "    <tr style=\"text-align: right;\">\n",
       "      <th></th>\n",
       "      <th>Albanian</th>\n",
       "      <th>Parameter</th>\n",
       "      <th>Bulgarian</th>\n",
       "      <th>Hungarian</th>\n",
       "      <th>Romanian</th>\n",
       "    </tr>\n",
       "  </thead>\n",
       "  <tbody>\n",
       "    <tr>\n",
       "      <th>0</th>\n",
       "      <td>bot</td>\n",
       "      <td>world</td>\n",
       "      <td>svjat</td>\n",
       "      <td>vilag</td>\n",
       "      <td>lume</td>\n",
       "    </tr>\n",
       "    <tr>\n",
       "      <th>1</th>\n",
       "      <td>e</td>\n",
       "      <td>world</td>\n",
       "      <td>svjat</td>\n",
       "      <td>vilag</td>\n",
       "      <td>lume</td>\n",
       "    </tr>\n",
       "    <tr>\n",
       "      <th>2</th>\n",
       "      <td>rokulialem</td>\n",
       "      <td>world</td>\n",
       "      <td>svjat</td>\n",
       "      <td>vilag</td>\n",
       "      <td>lume</td>\n",
       "    </tr>\n",
       "    <tr>\n",
       "      <th>3</th>\n",
       "      <td>dua</td>\n",
       "      <td>world</td>\n",
       "      <td>svjat</td>\n",
       "      <td>vilag</td>\n",
       "      <td>lume</td>\n",
       "    </tr>\n",
       "    <tr>\n",
       "      <th>4</th>\n",
       "      <td>tok</td>\n",
       "      <td>earth</td>\n",
       "      <td>zemja</td>\n",
       "      <td>fold</td>\n",
       "      <td>pamint</td>\n",
       "    </tr>\n",
       "    <tr>\n",
       "      <th>...</th>\n",
       "      <td>...</td>\n",
       "      <td>...</td>\n",
       "      <td>...</td>\n",
       "      <td>...</td>\n",
       "      <td>...</td>\n",
       "    </tr>\n",
       "    <tr>\n",
       "      <th>6407</th>\n",
       "      <td>NaN</td>\n",
       "      <td>adultery</td>\n",
       "      <td>preljubodejanie</td>\n",
       "      <td>hazassagtores</td>\n",
       "      <td>adulteriu</td>\n",
       "    </tr>\n",
       "    <tr>\n",
       "      <th>6408</th>\n",
       "      <td>NaN</td>\n",
       "      <td>adultery</td>\n",
       "      <td>preljubodejstvo</td>\n",
       "      <td>hazassagtores</td>\n",
       "      <td>adulteriu</td>\n",
       "    </tr>\n",
       "    <tr>\n",
       "      <th>6409</th>\n",
       "      <td>NaN</td>\n",
       "      <td>perjury</td>\n",
       "      <td>lazesvidetelstvuvane</td>\n",
       "      <td>eskuszeges</td>\n",
       "      <td>sperjur</td>\n",
       "    </tr>\n",
       "    <tr>\n",
       "      <th>6410</th>\n",
       "      <td>NaN</td>\n",
       "      <td>menshouse</td>\n",
       "      <td>NaN</td>\n",
       "      <td>legenylakas</td>\n",
       "      <td>NaN</td>\n",
       "    </tr>\n",
       "    <tr>\n",
       "      <th>6411</th>\n",
       "      <td>NaN</td>\n",
       "      <td>meetinghouse</td>\n",
       "      <td>NaN</td>\n",
       "      <td>imahaz</td>\n",
       "      <td>NaN</td>\n",
       "    </tr>\n",
       "  </tbody>\n",
       "</table>\n",
       "<p>6412 rows × 5 columns</p>\n",
       "</div>"
      ],
      "text/plain": [
       "        Albanian     Parameter             Bulgarian      Hungarian   Romanian\n",
       "0            bot         world                 svjat          vilag       lume\n",
       "1              e         world                 svjat          vilag       lume\n",
       "2     rokulialem         world                 svjat          vilag       lume\n",
       "3            dua         world                 svjat          vilag       lume\n",
       "4            tok         earth                 zemja           fold     pamint\n",
       "...          ...           ...                   ...            ...        ...\n",
       "6407         NaN      adultery       preljubodejanie  hazassagtores  adulteriu\n",
       "6408         NaN      adultery       preljubodejstvo  hazassagtores  adulteriu\n",
       "6409         NaN       perjury  lazesvidetelstvuvane     eskuszeges    sperjur\n",
       "6410         NaN     menshouse                   NaN    legenylakas        NaN\n",
       "6411         NaN  meetinghouse                   NaN         imahaz        NaN\n",
       "\n",
       "[6412 rows x 5 columns]"
      ]
     },
     "execution_count": 36,
     "metadata": {},
     "output_type": "execute_result"
    }
   ],
   "source": [
    "merged_na"
   ]
  },
  {
   "cell_type": "code",
   "execution_count": 38,
   "metadata": {},
   "outputs": [],
   "source": [
    "merged_na.to_csv(r'/Users/adelinabranescu/Documents/Cornell/Fall_20/Data_2950/Final_Project/merged_na.csv', index = True )\n"
   ]
  },
  {
   "cell_type": "code",
   "execution_count": null,
   "metadata": {},
   "outputs": [],
   "source": []
  },
  {
   "cell_type": "code",
   "execution_count": null,
   "metadata": {},
   "outputs": [],
   "source": []
  },
  {
   "cell_type": "code",
   "execution_count": null,
   "metadata": {},
   "outputs": [],
   "source": []
  }
 ],
 "metadata": {
  "kernelspec": {
   "display_name": "Python 3",
   "language": "python",
   "name": "python3"
  },
  "language_info": {
   "codemirror_mode": {
    "name": "ipython",
    "version": 3
   },
   "file_extension": ".py",
   "mimetype": "text/x-python",
   "name": "python",
   "nbconvert_exporter": "python",
   "pygments_lexer": "ipython3",
   "version": "3.8.5"
  }
 },
 "nbformat": 4,
 "nbformat_minor": 4
}
